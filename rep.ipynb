{
  "nbformat": 4,
  "nbformat_minor": 0,
  "metadata": {
    "colab": {
      "provenance": [],
      "authorship_tag": "ABX9TyPcT0Q3bgVMxUOItzhzW8rL",
      "include_colab_link": true
    },
    "kernelspec": {
      "name": "python3",
      "display_name": "Python 3"
    },
    "language_info": {
      "name": "python"
    }
  },
  "cells": [
    {
      "cell_type": "markdown",
      "metadata": {
        "id": "view-in-github",
        "colab_type": "text"
      },
      "source": [
        "<a href=\"https://colab.research.google.com/github/ekaterinasukhomlinova/dap-2024/blob/main/rep.ipynb\" target=\"_parent\"><img src=\"https://colab.research.google.com/assets/colab-badge.svg\" alt=\"Open In Colab\"/></a>"
      ]
    },
    {
      "cell_type": "code",
      "execution_count": null,
      "metadata": {
        "id": "Rwxlw0ofVcSp",
        "colab": {
          "base_uri": "https://localhost:8080/"
        },
        "outputId": "375c7239-9038-43fd-ae98-0dc320ff40e0"
      },
      "outputs": [
        {
          "output_type": "execute_result",
          "data": {
            "text/plain": [
              "{'nbformat': 4,\n",
              " 'nbformat_minor': 0,\n",
              " 'metadata': {'colab': {'provenance': []},\n",
              "  'kernelspec': {'name': 'python3', 'display_name': 'Python 3'},\n",
              "  'language_info': {'name': 'python'}},\n",
              " 'cells': [{'cell_type': 'markdown',\n",
              "   'source': ['## Отчет о выполнении лабораторной работы 1\\n',\n",
              "    '\\n',\n",
              "    '### Ход работы\\n',\n",
              "    '\\n',\n",
              "    '1. Создана учетная запись на сервисе [GitHub](https://github.com).\\n',\n",
              "    '2. Выполнен [форк репозитория](https://github.com/un4va1lablxx/DAwP-2024).\\n',\n",
              "    '3. Создана учетная запись в [Google Colab](https://colab.research.google.com/).\\n',\n",
              "    '4. Настроена интеграция с Google Colab.\\n',\n",
              "    '5. С помощью Markdown-разметки выполнен отчет в Google Colab.\\n',\n",
              "    '6. Присвоив отчету название ***rep.ipynb***, отчет был сохранен в репозиторий GitHub по директории ***./les01***.\\n',\n",
              "    '7. Создан pull-request в репозиторий [преподавателя](https://github.com/chebotarevsa/dap-2024) в формате: _<Номер лабораторной работы> <Номер группы> <ФИО>_.\\n',\n",
              "    '8. Создан отчет в системе [Пегас](https://pegas.bsuedu.ru/mod/assign/view.php?id=1730202).'],\n",
              "   'metadata': {'id': 'Xz7jdJCishp9'}}]}"
            ]
          },
          "metadata": {},
          "execution_count": 1
        }
      ],
      "source": [
        "{\n",
        "  \"nbformat\": 4,\n",
        "  \"nbformat_minor\": 0,\n",
        "  \"metadata\": {\n",
        "    \"colab\": {\n",
        "      \"provenance\": []\n",
        "    },\n",
        "    \"kernelspec\": {\n",
        "      \"name\": \"python3\",\n",
        "      \"display_name\": \"Python 3\"\n",
        "    },\n",
        "    \"language_info\": {\n",
        "      \"name\": \"python\"\n",
        "    }\n",
        "  },\n",
        "  \"cells\": [\n",
        "    {\n",
        "      \"cell_type\": \"markdown\",\n",
        "      \"source\": [\n",
        "        \"## Отчет о выполнении лабораторной работы 1\\n\",\n",
        "        \"\\n\",\n",
        "        \"### Ход работы\\n\",\n",
        "        \"\\n\",\n",
        "        \"1. Создана учетная запись на сервисе [GitHub](https://github.com).\\n\",\n",
        "        \"2. Выполнен [форк репозитория](https://github.com/un4va1lablxx/DAwP-2024).\\n\",\n",
        "        \"3. Создана учетная запись в [Google Colab](https://colab.research.google.com/).\\n\",\n",
        "        \"4. Настроена интеграция с Google Colab.\\n\",\n",
        "        \"5. С помощью Markdown-разметки выполнен отчет в Google Colab.\\n\",\n",
        "        \"6. Присвоив отчету название ***rep.ipynb***, отчет был сохранен в репозиторий GitHub по директории ***./les01***.\\n\",\n",
        "        \"7. Создан pull-request в репозиторий [преподавателя](https://github.com/chebotarevsa/dap-2024) в формате: _<Номер лабораторной работы> <Номер группы> <ФИО>_.\\n\",\n",
        "        \"8. Создан отчет в системе [Пегас](https://pegas.bsuedu.ru/mod/assign/view.php?id=1730202).\"\n",
        "      ],\n",
        "      \"metadata\": {\n",
        "        \"id\": \"Xz7jdJCishp9\"\n",
        "      }\n",
        "    }\n",
        "  ]\n",
        "}"
      ]
    }
  ]
}