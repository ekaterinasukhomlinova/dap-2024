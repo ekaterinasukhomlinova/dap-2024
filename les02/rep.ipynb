{
  "cells": [
    {
      "cell_type": "markdown",
      "metadata": {
        "id": "view-in-github",
        "colab_type": "text"
      },
      "source": [
        "<a href=\"https://colab.research.google.com/github/ekaterinasukhomlinova/dap-2024/blob/main/les02/rep.ipynb\" target=\"_parent\"><img src=\"https://colab.research.google.com/assets/colab-badge.svg\" alt=\"Open In Colab\"/></a>"
      ]
    },
    {
      "cell_type": "markdown",
      "metadata": {
        "id": "Vewq78VlifO8"
      },
      "source": [
        "# Лабораторная работа №2. Основы Python"
      ]
    },
    {
      "cell_type": "markdown",
      "metadata": {
        "id": "srCcJscGifO9"
      },
      "source": [
        "## Задание"
      ]
    },
    {
      "cell_type": "markdown",
      "metadata": {
        "id": "7O-hP81OifO9"
      },
      "source": [
        "Выполните следующие задания:\n",
        "\n",
        "1. Откройте в файл в Google Colab (используйте собственный форк репозитория).\n",
        "2. Решите задачи.\n",
        "3. Сохраните результат в ваш репозиторий github в директорию ./les02\n",
        "4. Создайте pull request в репозиторий https://github.com/chebotarevsa/dap-2024. Название pull request должно иметь формат \"<Номер лабораторной работы>  <Номер группы> <ФИО>\"\n",
        "5. Сдайте работу в системе \"Пегас\", в отчет укажите ссылку на pull request"
      ]
    },
    {
      "cell_type": "markdown",
      "metadata": {
        "id": "lpVrmjATifO-"
      },
      "source": [
        "Задача №1. https://leetcode.com/problems/two-sum/"
      ]
    },
    {
      "cell_type": "code",
      "execution_count": 2,
      "metadata": {
        "colab": {
          "base_uri": "https://localhost:8080/"
        },
        "id": "rhaPAhx8ifO-",
        "outputId": "396436c6-b8e0-44c5-e43f-686fadcf88a4"
      },
      "outputs": [
        {
          "output_type": "stream",
          "name": "stdout",
          "text": [
            "[0, 1]\n",
            "[1, 2]\n",
            "[0, 1]\n"
          ]
        }
      ],
      "source": [
        "class Solution1(object):\n",
        "    def twoSum(self, nums, target):\n",
        "        \"\"\"\n",
        "        :type nums: List[int]\n",
        "        :type target: int\n",
        "        :rtype: List[int]\n",
        "        \"\"\"\n",
        "        # Ваше решение\n",
        "\n",
        "        # Создаем словарь для хранения чисел и их индексов\n",
        "        num_map = {}\n",
        "\n",
        "        # Проходим по массиву\n",
        "        for i, num in enumerate(nums):\n",
        "            # Вычисляем необходимое число для достижения target\n",
        "            complement = target - num\n",
        "\n",
        "            # Если необходимое число уже есть в словаре, возвращаем индексы\n",
        "            if complement in num_map:\n",
        "                return [num_map[complement], i]\n",
        "\n",
        "            # Если нет, добавляем текущее число в словарь\n",
        "            num_map[num] = i\n",
        "\n",
        "# Тестовые примеры\n",
        "solution = Solution1()\n",
        "\n",
        "# Example 1\n",
        "print(solution.twoSum([2, 7, 11, 15], 9))  # Output: [0, 1]\n",
        "\n",
        "# Example 2\n",
        "print(solution.twoSum([3, 2, 4], 6))  # Output: [1, 2]\n",
        "\n",
        "# Example 3\n",
        "print(solution.twoSum([3, 3], 6))  # Output: [0, 1]"
      ]
    },
    {
      "cell_type": "markdown",
      "metadata": {
        "id": "VYLDo0Y_ifO_"
      },
      "source": [
        "Задача №2. https://leetcode.com/problems/palindrome-number/description/"
      ]
    },
    {
      "cell_type": "code",
      "execution_count": 3,
      "metadata": {
        "colab": {
          "base_uri": "https://localhost:8080/"
        },
        "id": "wJXJiABTifO_",
        "outputId": "5809262e-4529-4ea9-f784-894fcfaae7fd"
      },
      "outputs": [
        {
          "output_type": "stream",
          "name": "stdout",
          "text": [
            "True\n",
            "False\n",
            "False\n"
          ]
        }
      ],
      "source": [
        "class Solution2(object):\n",
        "    def isPalindrome(self, x):\n",
        "        \"\"\"\n",
        "        :type x: int\n",
        "        :rtype: bool\n",
        "        \"\"\"\n",
        "\n",
        "        # Ваше решение\n",
        "\n",
        "        # Отрицательные числа и числа, заканчивающиеся на 0 (кроме 0), не являются палиндромами\n",
        "        if x < 0 or (x % 10 == 0 and x != 0):\n",
        "            return False\n",
        "\n",
        "        # Переворачиваем половину числа\n",
        "        reversed_half = 0\n",
        "        while x > reversed_half:\n",
        "            reversed_half = reversed_half * 10 + x % 10\n",
        "            x //= 10\n",
        "\n",
        "        # Число является палиндромом, если:\n",
        "        # 1. Левосторонняя часть равна правосторонней (для четного количества цифр)\n",
        "        # 2. Левосторонняя часть равна правосторонней без центральной цифры (для нечетного количества цифр)\n",
        "        return x == reversed_half or x == reversed_half // 10\n",
        "\n",
        "# Примеры использования\n",
        "solution = Solution2()\n",
        "\n",
        "print(solution.isPalindrome(121))  # Output: True\n",
        "print(solution.isPalindrome(-121))  # Output: False\n",
        "print(solution.isPalindrome(10))  # Output: False"
      ]
    },
    {
      "cell_type": "markdown",
      "metadata": {
        "id": "rf2Y953DifO_"
      },
      "source": [
        "Задача №3. https://leetcode.com/problems/roman-to-integer/description/"
      ]
    },
    {
      "cell_type": "code",
      "execution_count": 4,
      "metadata": {
        "colab": {
          "base_uri": "https://localhost:8080/"
        },
        "id": "B6J-8sNdifPA",
        "outputId": "631ab43d-7109-4c13-9544-da4515ced5e9"
      },
      "outputs": [
        {
          "output_type": "stream",
          "name": "stdout",
          "text": [
            "3\n",
            "58\n",
            "1994\n"
          ]
        }
      ],
      "source": [
        "class Solution3(object):\n",
        "    def romanToInt(self, s):\n",
        "        \"\"\"\n",
        "        :type s: str\n",
        "        :rtype: int\n",
        "        \"\"\"\n",
        "\n",
        "        # Ваше решение\n",
        "\n",
        "        # Словарь с основными символами и их значениями\n",
        "        roman_map = {\n",
        "            'I': 1, 'V': 5, 'X': 10, 'L': 50,\n",
        "            'C': 100, 'D': 500, 'M': 1000\n",
        "        }\n",
        "\n",
        "        # Итоговая сумма\n",
        "        result = 0\n",
        "\n",
        "        # Проходим по строке\n",
        "        for i in range(len(s)):\n",
        "            # Если текущий символ меньше следующего, вычитаем его значение\n",
        "            if i + 1 < len(s) and roman_map[s[i]] < roman_map[s[i + 1]]:\n",
        "                result -= roman_map[s[i]]\n",
        "            else:\n",
        "                result += roman_map[s[i]]\n",
        "\n",
        "        return result\n",
        "\n",
        "# Примеры использования\n",
        "solution = Solution3()\n",
        "\n",
        "print(solution.romanToInt(\"III\"))       # Output: 3\n",
        "print(solution.romanToInt(\"LVIII\"))    # Output: 58\n",
        "print(solution.romanToInt(\"MCMXCIV\"))  # Output: 1994"
      ]
    },
    {
      "cell_type": "markdown",
      "metadata": {
        "id": "XYuiZyl9ifPA"
      },
      "source": [
        "Задача №4. https://leetcode.com/problems/longest-common-prefix/description/"
      ]
    },
    {
      "cell_type": "code",
      "execution_count": 5,
      "metadata": {
        "colab": {
          "base_uri": "https://localhost:8080/"
        },
        "id": "kHmcWTnlifPA",
        "outputId": "6b045ea5-367a-4bdc-d862-f8b379dc55ee"
      },
      "outputs": [
        {
          "output_type": "stream",
          "name": "stdout",
          "text": [
            "fl\n",
            "\n"
          ]
        }
      ],
      "source": [
        "class Solution4(object):\n",
        "    def longestCommonPrefix(self, strs):\n",
        "        \"\"\"\n",
        "        :type strs: List[str]\n",
        "        :rtype: str\n",
        "        \"\"\"\n",
        "        # Ваше решение\n",
        "\n",
        "        # Если массив пустой, возвращаем пустую строку\n",
        "        if not strs:\n",
        "            return \"\"\n",
        "\n",
        "        # Берем первый элемент как начальный префикс\n",
        "        prefix = strs[0]\n",
        "\n",
        "        # Сравниваем с каждым словом в массиве\n",
        "        for string in strs[1:]:\n",
        "            # Пока строка не содержит текущий префикс, обрезаем префикс\n",
        "            while not string.startswith(prefix):\n",
        "                prefix = prefix[:-1]\n",
        "                # Если префикс пустой, возвращаем пустую строку\n",
        "                if not prefix:\n",
        "                    return \"\"\n",
        "\n",
        "        return prefix\n",
        "\n",
        "# Примеры использования\n",
        "solution = Solution4()\n",
        "\n",
        "print(solution.longestCommonPrefix([\"flower\", \"flow\", \"flight\"]))  # Output: \"fl\"\n",
        "print(solution.longestCommonPrefix([\"dog\", \"racecar\", \"car\"]))     # Output: \"\""
      ]
    },
    {
      "cell_type": "markdown",
      "metadata": {
        "id": "8KeJ-rfzifPA"
      },
      "source": [
        "Задача №5. https://leetcode.com/problems/merge-two-sorted-lists/description/"
      ]
    },
    {
      "cell_type": "code",
      "execution_count": 6,
      "metadata": {
        "colab": {
          "base_uri": "https://localhost:8080/"
        },
        "id": "F2Fyn_rBifPA",
        "outputId": "6c0a36fa-abe5-454f-8af0-5720cbeeecad"
      },
      "outputs": [
        {
          "output_type": "stream",
          "name": "stdout",
          "text": [
            "[1, 1, 2, 3, 4, 4]\n",
            "[]\n",
            "[0]\n"
          ]
        }
      ],
      "source": [
        "# Определение класса ListNode для узлов связанного списка\n",
        "class ListNode(object):\n",
        "    def __init__(self, val=0, next=None):\n",
        "        self.val = val\n",
        "        self.next = next\n",
        "\n",
        "class Solution5(object):\n",
        "    def mergeTwoLists(self, list1, list2):\n",
        "        \"\"\"\n",
        "        :type list1: Optional[ListNode]\n",
        "        :type list2: Optional[ListNode]\n",
        "        :rtype: Optional[ListNode]\n",
        "        \"\"\"\n",
        "        # Создаем фиктивный узел для удобства\n",
        "        dummy = ListNode()\n",
        "        current = dummy\n",
        "\n",
        "        # Пока оба списка не пусты\n",
        "        while list1 and list2:\n",
        "            # Сравниваем значения текущих узлов\n",
        "            if list1.val <= list2.val:\n",
        "                current.next = list1\n",
        "                list1 = list1.next\n",
        "            else:\n",
        "                current.next = list2\n",
        "                list2 = list2.next\n",
        "            current = current.next\n",
        "\n",
        "        # Если один из списков еще не пуст, добавляем его в конец\n",
        "        if list1:\n",
        "            current.next = list1\n",
        "        if list2:\n",
        "            current.next = list2\n",
        "\n",
        "        # Возвращаем голову нового списка (после фиктивного узла)\n",
        "        return dummy.next\n",
        "\n",
        "# Примеры использования\n",
        "def print_list(node):\n",
        "    result = []\n",
        "    while node:\n",
        "        result.append(node.val)\n",
        "        node = node.next\n",
        "    print(result)\n",
        "\n",
        "# Создание примеров\n",
        "list1 = ListNode(1, ListNode(2, ListNode(4)))\n",
        "list2 = ListNode(1, ListNode(3, ListNode(4)))\n",
        "\n",
        "solution = Solution5()\n",
        "\n",
        "# Пример 1\n",
        "merged_list = solution.mergeTwoLists(list1, list2)\n",
        "print_list(merged_list)  # Output: [1, 1, 2, 3, 4, 4]\n",
        "\n",
        "# Пример 2\n",
        "list1 = None\n",
        "list2 = None\n",
        "merged_list = solution.mergeTwoLists(list1, list2)\n",
        "print_list(merged_list)  # Output: []\n",
        "\n",
        "# Пример 3\n",
        "list1 = None\n",
        "list2 = ListNode(0)\n",
        "merged_list = solution.mergeTwoLists(list1, list2)\n",
        "print_list(merged_list)  # Output: [0]\n",
        ""
      ]
    },
    {
      "cell_type": "markdown",
      "metadata": {
        "id": "yK9izQLXifPB"
      },
      "source": [
        "Задача №6. https://leetcode.com/problems/longest-substring-without-repeating-characters/description/"
      ]
    },
    {
      "cell_type": "code",
      "execution_count": 7,
      "metadata": {
        "colab": {
          "base_uri": "https://localhost:8080/"
        },
        "id": "CLXcjsA9ifPB",
        "outputId": "188c21ed-bdb8-4fb0-8423-3bdf922a19b7"
      },
      "outputs": [
        {
          "output_type": "stream",
          "name": "stdout",
          "text": [
            "3\n",
            "1\n",
            "3\n"
          ]
        }
      ],
      "source": [
        "class Solution(object):\n",
        "    def lengthOfLongestSubstring(self, s):\n",
        "        \"\"\"\n",
        "        :type s: str\n",
        "        :rtype: int\n",
        "        \"\"\"\n",
        "\n",
        "        # Ваше решение\n",
        "\n",
        "        # Множество для отслеживания уникальных символов\n",
        "        char_set = set()\n",
        "        # Указатели для левой и правой границы окна\n",
        "        left = 0\n",
        "        # Максимальная длина подстроки\n",
        "        max_length = 0\n",
        "\n",
        "        # Проходим по строке правым указателем\n",
        "        for right in range(len(s)):\n",
        "            # Если символ уже есть в множестве, сдвигаем левый указатель\n",
        "            while s[right] in char_set:\n",
        "                char_set.remove(s[left])\n",
        "                left += 1\n",
        "            # Добавляем текущий символ в множество\n",
        "            char_set.add(s[right])\n",
        "            # Обновляем максимальную длину подстроки\n",
        "            max_length = max(max_length, right - left + 1)\n",
        "\n",
        "        return max_length\n",
        "\n",
        "# Примеры использования\n",
        "solution = Solution()\n",
        "\n",
        "# Пример 1\n",
        "print(solution.lengthOfLongestSubstring(\"abcabcbb\"))  # Output: 3\n",
        "\n",
        "# Пример 2\n",
        "print(solution.lengthOfLongestSubstring(\"bbbbb\"))  # Output: 1\n",
        "\n",
        "# Пример 3\n",
        "print(solution.lengthOfLongestSubstring(\"pwwkew\"))  # Output: 3"
      ]
    },
    {
      "cell_type": "markdown",
      "metadata": {
        "id": "c7j2jPXjifPB"
      },
      "source": [
        "## Вопросы\n",
        "\n",
        "1. Что такое динамическая типизация и чем она отличается от статической?\n",
        "2. Чем отличается цикл for в Python от цикла for в С++?\n",
        "3. Для чего предназначены операторы continue и break?\n",
        "4. Как определить функцию в python? Может ли функция возвращать несколько значений?\n",
        "5. Что такое лямбда функции и для чего они предназначены?\n",
        "6. Может ли тело функции содержать определение другой функции?\n",
        "7. Как определить класс в python? Для чего нужна переменная self?\n",
        "8. Как определить приватный метод? Можно ли вызвать приватный метод за пределами класса?\n",
        "9. Как определить статический метод класса? Для чего может понадобиться статический метод?\n",
        "10. Чем staticmethod отличается от classmethod?\n",
        "11. Как определить собственный класс исключений Python? Как выбросить и перехватить исключение?\n",
        "12. Что такое картеж, для чего он используется?\n"
      ]
    }
  ],
  "metadata": {
    "language_info": {
      "name": "python"
    },
    "colab": {
      "provenance": [],
      "include_colab_link": true
    },
    "kernelspec": {
      "name": "python3",
      "display_name": "Python 3"
    }
  },
  "nbformat": 4,
  "nbformat_minor": 0
}