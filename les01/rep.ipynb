{
  "nbformat": 4,
  "nbformat_minor": 0,
  "metadata": {
    "colab": {
      "provenance": [],
      "authorship_tag": "ABX9TyM7yN92TdXKTgEe1iOUK+Lc",
      "include_colab_link": true
    },
    "kernelspec": {
      "name": "python3",
      "display_name": "Python 3"
    },
    "language_info": {
      "name": "python"
    }
  },
  "cells": [
    {
      "cell_type": "markdown",
      "metadata": {
        "id": "view-in-github",
        "colab_type": "text"
      },
      "source": [
        "<a href=\"https://colab.research.google.com/github/ekaterinasukhomlinova/dap-2024/blob/main/les01/rep.ipynb\" target=\"_parent\"><img src=\"https://colab.research.google.com/assets/colab-badge.svg\" alt=\"Open In Colab\"/></a>"
      ]
    },
    {
      "cell_type": "markdown",
      "source": [
        "## Отчет о выполнении лабораторной работы 1\n",
        "\n",
        "### Ход работы\n",
        "\n",
        "1. Создана учетная запись на сервисе [GitHub](https://github.com).\n",
        "2. Выполнен [форк репозитория](https://github.com/un4va1lablxx/DAwP-2024).\n",
        "3. Создана учетная запись в [Google Colab](https://colab.research.google.com/).\n",
        "4. Настроена интеграция с Google Colab.\n",
        "5. С помощью Markdown-разметки выполнен отчет в Google Colab.\n",
        "6. Присвоив отчету название ***rep.ipynb***, отчет был сохранен в репозиторий GitHub по директории ***./les01***.\n",
        "7. Создан pull-request в репозиторий [преподавателя](https://github.com/chebotarevsa/dap-2024) в формате: _<Номер лабораторной работы> <Номер группы> <ФИО>_.\n",
        "8. Создан отчет в системе [Пегас](https://pegas.bsuedu.ru/mod/assign/view.php?id=1730202).\n"
      ],
      "metadata": {
        "id": "jgjCeT3e30SD"
      }
    },
    {
      "cell_type": "code",
      "source": [
        "!apt-get install git -y"
      ],
      "metadata": {
        "colab": {
          "base_uri": "https://localhost:8080/"
        },
        "id": "FeIOkvvC5L7z",
        "outputId": "c1de2cb5-e564-44cc-d178-026a72599f62"
      },
      "execution_count": 6,
      "outputs": [
        {
          "output_type": "stream",
          "name": "stdout",
          "text": [
            "Reading package lists... Done\n",
            "Building dependency tree... Done\n",
            "Reading state information... Done\n",
            "git is already the newest version (1:2.34.1-1ubuntu1.11).\n",
            "0 upgraded, 0 newly installed, 0 to remove and 49 not upgraded.\n"
          ]
        }
      ]
    },
    {
      "cell_type": "code",
      "source": [
        "!git config --global user.email ek.jp21@gmail.com\n",
        "!git config --global user.name ekaterinasukhomlinova"
      ],
      "metadata": {
        "id": "0BqMaVQP5WJz"
      },
      "execution_count": 8,
      "outputs": []
    }
  ]
}