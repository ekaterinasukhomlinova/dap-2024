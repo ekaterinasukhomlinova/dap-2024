{
  "cells": [
    {
      "cell_type": "markdown",
      "metadata": {
        "id": "view-in-github",
        "colab_type": "text"
      },
      "source": [
        "<a href=\"https://colab.research.google.com/github/ekaterinasukhomlinova/dap-2024/blob/main/les06/rep.ipynb\" target=\"_parent\"><img src=\"https://colab.research.google.com/assets/colab-badge.svg\" alt=\"Open In Colab\"/></a>"
      ]
    },
    {
      "cell_type": "markdown",
      "metadata": {
        "id": "xnCIvq1Rs-pi"
      },
      "source": [
        "# Лабораторная работа №6. Линейная регрессия"
      ]
    },
    {
      "cell_type": "markdown",
      "metadata": {
        "id": "GN3a2gnCs-pj"
      },
      "source": [
        "Выполните следующие задания:\n",
        "\n",
        "1. Откройте в файл в Google Colab (используйте собственный форк репозитория).\n",
        "2. Решите задачи.\n",
        "3. Сохраните результат в ваш репозиторий github в директорию ./les06\n",
        "4. Создайте pull request в репозиторий https://github.com/chebotarevsa/dap-2024. Название pull request должно иметь формат \"<Номер лабораторной работы>  <Номер группы> <ФИО>\"\n",
        "5. Сдайте работу в системе \"Пегас\", в отчет укажите ссылку на pull request"
      ]
    },
    {
      "cell_type": "markdown",
      "metadata": {
        "id": "jAQTOTigs-pk"
      },
      "source": [
        "Набор данных Diabetes (Диабет) содержит 442 образца с 10-ю признаками: возраст, пол, индекс массы тела, средний показатель давления крови и шесть измерений сыворотки крови. Целевое значение - количественный показатель прогрессирования заболевания через год после анализов."
      ]
    },
    {
      "cell_type": "code",
      "execution_count": 1,
      "metadata": {
        "id": "D-MEnIRjs-pk"
      },
      "outputs": [],
      "source": [
        "import numpy as np\n",
        "import pandas as pd\n",
        "import matplotlib.pyplot as plt"
      ]
    },
    {
      "cell_type": "markdown",
      "metadata": {
        "id": "Z18s_bI3s-pl"
      },
      "source": [
        "## Извлечение данных"
      ]
    },
    {
      "cell_type": "code",
      "execution_count": 2,
      "metadata": {
        "id": "3ZBOVRWBs-pl"
      },
      "outputs": [],
      "source": [
        "from sklearn import datasets\n",
        "diabetes = datasets.load_diabetes()"
      ]
    },
    {
      "cell_type": "markdown",
      "metadata": {
        "id": "bhRQ5PgYs-pl"
      },
      "source": [
        "1. Выведете описание набора данных и наименование признаков."
      ]
    },
    {
      "cell_type": "code",
      "execution_count": 3,
      "metadata": {
        "id": "cvgB9vMas-pl",
        "outputId": "79c4c84f-e1a2-4af2-d9f8-81d0d8f78f5e",
        "colab": {
          "base_uri": "https://localhost:8080/"
        }
      },
      "outputs": [
        {
          "output_type": "stream",
          "name": "stdout",
          "text": [
            ".. _diabetes_dataset:\n",
            "\n",
            "Diabetes dataset\n",
            "----------------\n",
            "\n",
            "Ten baseline variables, age, sex, body mass index, average blood\n",
            "pressure, and six blood serum measurements were obtained for each of n =\n",
            "442 diabetes patients, as well as the response of interest, a\n",
            "quantitative measure of disease progression one year after baseline.\n",
            "\n",
            "**Data Set Characteristics:**\n",
            "\n",
            ":Number of Instances: 442\n",
            "\n",
            ":Number of Attributes: First 10 columns are numeric predictive values\n",
            "\n",
            ":Target: Column 11 is a quantitative measure of disease progression one year after baseline\n",
            "\n",
            ":Attribute Information:\n",
            "    - age     age in years\n",
            "    - sex\n",
            "    - bmi     body mass index\n",
            "    - bp      average blood pressure\n",
            "    - s1      tc, total serum cholesterol\n",
            "    - s2      ldl, low-density lipoproteins\n",
            "    - s3      hdl, high-density lipoproteins\n",
            "    - s4      tch, total cholesterol / HDL\n",
            "    - s5      ltg, possibly log of serum triglycerides level\n",
            "    - s6      glu, blood sugar level\n",
            "\n",
            "Note: Each of these 10 feature variables have been mean centered and scaled by the standard deviation times the square root of `n_samples` (i.e. the sum of squares of each column totals 1).\n",
            "\n",
            "Source URL:\n",
            "https://www4.stat.ncsu.edu/~boos/var.select/diabetes.html\n",
            "\n",
            "For more information see:\n",
            "Bradley Efron, Trevor Hastie, Iain Johnstone and Robert Tibshirani (2004) \"Least Angle Regression,\" Annals of Statistics (with discussion), 407-499.\n",
            "(https://web.stanford.edu/~hastie/Papers/LARS/LeastAngle_2002.pdf)\n",
            "\n",
            "['age', 'sex', 'bmi', 'bp', 's1', 's2', 's3', 's4', 's5', 's6']\n"
          ]
        }
      ],
      "source": [
        "print(diabetes.DESCR)\n",
        "print(diabetes.feature_names)"
      ]
    },
    {
      "cell_type": "markdown",
      "metadata": {
        "id": "DKTqGvnvs-pl"
      },
      "source": [
        "### Подготовка данных"
      ]
    },
    {
      "cell_type": "markdown",
      "metadata": {
        "id": "z_1xUiwgs-pl"
      },
      "source": [
        "2. Из загруженного набора данных создайте DataFrame, содержащий как признаки, так и целевое значение. Выведите первые 5 строк набора."
      ]
    },
    {
      "cell_type": "code",
      "execution_count": 4,
      "metadata": {
        "id": "cYMG_QyFs-pl",
        "outputId": "0cbd407c-8f83-43f1-c4e6-8128ee828027",
        "colab": {
          "base_uri": "https://localhost:8080/",
          "height": 206
        }
      },
      "outputs": [
        {
          "output_type": "execute_result",
          "data": {
            "text/plain": [
              "        age       sex       bmi        bp        s1        s2        s3  \\\n",
              "0  0.038076  0.050680  0.061696  0.021872 -0.044223 -0.034821 -0.043401   \n",
              "1 -0.001882 -0.044642 -0.051474 -0.026328 -0.008449 -0.019163  0.074412   \n",
              "2  0.085299  0.050680  0.044451 -0.005670 -0.045599 -0.034194 -0.032356   \n",
              "3 -0.089063 -0.044642 -0.011595 -0.036656  0.012191  0.024991 -0.036038   \n",
              "4  0.005383 -0.044642 -0.036385  0.021872  0.003935  0.015596  0.008142   \n",
              "\n",
              "         s4        s5        s6  target  \n",
              "0 -0.002592  0.019907 -0.017646   151.0  \n",
              "1 -0.039493 -0.068332 -0.092204    75.0  \n",
              "2 -0.002592  0.002861 -0.025930   141.0  \n",
              "3  0.034309  0.022688 -0.009362   206.0  \n",
              "4 -0.002592 -0.031988 -0.046641   135.0  "
            ],
            "text/html": [
              "\n",
              "  <div id=\"df-83813aae-a6cb-4b4e-b926-62d3cb071084\" class=\"colab-df-container\">\n",
              "    <div>\n",
              "<style scoped>\n",
              "    .dataframe tbody tr th:only-of-type {\n",
              "        vertical-align: middle;\n",
              "    }\n",
              "\n",
              "    .dataframe tbody tr th {\n",
              "        vertical-align: top;\n",
              "    }\n",
              "\n",
              "    .dataframe thead th {\n",
              "        text-align: right;\n",
              "    }\n",
              "</style>\n",
              "<table border=\"1\" class=\"dataframe\">\n",
              "  <thead>\n",
              "    <tr style=\"text-align: right;\">\n",
              "      <th></th>\n",
              "      <th>age</th>\n",
              "      <th>sex</th>\n",
              "      <th>bmi</th>\n",
              "      <th>bp</th>\n",
              "      <th>s1</th>\n",
              "      <th>s2</th>\n",
              "      <th>s3</th>\n",
              "      <th>s4</th>\n",
              "      <th>s5</th>\n",
              "      <th>s6</th>\n",
              "      <th>target</th>\n",
              "    </tr>\n",
              "  </thead>\n",
              "  <tbody>\n",
              "    <tr>\n",
              "      <th>0</th>\n",
              "      <td>0.038076</td>\n",
              "      <td>0.050680</td>\n",
              "      <td>0.061696</td>\n",
              "      <td>0.021872</td>\n",
              "      <td>-0.044223</td>\n",
              "      <td>-0.034821</td>\n",
              "      <td>-0.043401</td>\n",
              "      <td>-0.002592</td>\n",
              "      <td>0.019907</td>\n",
              "      <td>-0.017646</td>\n",
              "      <td>151.0</td>\n",
              "    </tr>\n",
              "    <tr>\n",
              "      <th>1</th>\n",
              "      <td>-0.001882</td>\n",
              "      <td>-0.044642</td>\n",
              "      <td>-0.051474</td>\n",
              "      <td>-0.026328</td>\n",
              "      <td>-0.008449</td>\n",
              "      <td>-0.019163</td>\n",
              "      <td>0.074412</td>\n",
              "      <td>-0.039493</td>\n",
              "      <td>-0.068332</td>\n",
              "      <td>-0.092204</td>\n",
              "      <td>75.0</td>\n",
              "    </tr>\n",
              "    <tr>\n",
              "      <th>2</th>\n",
              "      <td>0.085299</td>\n",
              "      <td>0.050680</td>\n",
              "      <td>0.044451</td>\n",
              "      <td>-0.005670</td>\n",
              "      <td>-0.045599</td>\n",
              "      <td>-0.034194</td>\n",
              "      <td>-0.032356</td>\n",
              "      <td>-0.002592</td>\n",
              "      <td>0.002861</td>\n",
              "      <td>-0.025930</td>\n",
              "      <td>141.0</td>\n",
              "    </tr>\n",
              "    <tr>\n",
              "      <th>3</th>\n",
              "      <td>-0.089063</td>\n",
              "      <td>-0.044642</td>\n",
              "      <td>-0.011595</td>\n",
              "      <td>-0.036656</td>\n",
              "      <td>0.012191</td>\n",
              "      <td>0.024991</td>\n",
              "      <td>-0.036038</td>\n",
              "      <td>0.034309</td>\n",
              "      <td>0.022688</td>\n",
              "      <td>-0.009362</td>\n",
              "      <td>206.0</td>\n",
              "    </tr>\n",
              "    <tr>\n",
              "      <th>4</th>\n",
              "      <td>0.005383</td>\n",
              "      <td>-0.044642</td>\n",
              "      <td>-0.036385</td>\n",
              "      <td>0.021872</td>\n",
              "      <td>0.003935</td>\n",
              "      <td>0.015596</td>\n",
              "      <td>0.008142</td>\n",
              "      <td>-0.002592</td>\n",
              "      <td>-0.031988</td>\n",
              "      <td>-0.046641</td>\n",
              "      <td>135.0</td>\n",
              "    </tr>\n",
              "  </tbody>\n",
              "</table>\n",
              "</div>\n",
              "    <div class=\"colab-df-buttons\">\n",
              "\n",
              "  <div class=\"colab-df-container\">\n",
              "    <button class=\"colab-df-convert\" onclick=\"convertToInteractive('df-83813aae-a6cb-4b4e-b926-62d3cb071084')\"\n",
              "            title=\"Convert this dataframe to an interactive table.\"\n",
              "            style=\"display:none;\">\n",
              "\n",
              "  <svg xmlns=\"http://www.w3.org/2000/svg\" height=\"24px\" viewBox=\"0 -960 960 960\">\n",
              "    <path d=\"M120-120v-720h720v720H120Zm60-500h600v-160H180v160Zm220 220h160v-160H400v160Zm0 220h160v-160H400v160ZM180-400h160v-160H180v160Zm440 0h160v-160H620v160ZM180-180h160v-160H180v160Zm440 0h160v-160H620v160Z\"/>\n",
              "  </svg>\n",
              "    </button>\n",
              "\n",
              "  <style>\n",
              "    .colab-df-container {\n",
              "      display:flex;\n",
              "      gap: 12px;\n",
              "    }\n",
              "\n",
              "    .colab-df-convert {\n",
              "      background-color: #E8F0FE;\n",
              "      border: none;\n",
              "      border-radius: 50%;\n",
              "      cursor: pointer;\n",
              "      display: none;\n",
              "      fill: #1967D2;\n",
              "      height: 32px;\n",
              "      padding: 0 0 0 0;\n",
              "      width: 32px;\n",
              "    }\n",
              "\n",
              "    .colab-df-convert:hover {\n",
              "      background-color: #E2EBFA;\n",
              "      box-shadow: 0px 1px 2px rgba(60, 64, 67, 0.3), 0px 1px 3px 1px rgba(60, 64, 67, 0.15);\n",
              "      fill: #174EA6;\n",
              "    }\n",
              "\n",
              "    .colab-df-buttons div {\n",
              "      margin-bottom: 4px;\n",
              "    }\n",
              "\n",
              "    [theme=dark] .colab-df-convert {\n",
              "      background-color: #3B4455;\n",
              "      fill: #D2E3FC;\n",
              "    }\n",
              "\n",
              "    [theme=dark] .colab-df-convert:hover {\n",
              "      background-color: #434B5C;\n",
              "      box-shadow: 0px 1px 3px 1px rgba(0, 0, 0, 0.15);\n",
              "      filter: drop-shadow(0px 1px 2px rgba(0, 0, 0, 0.3));\n",
              "      fill: #FFFFFF;\n",
              "    }\n",
              "  </style>\n",
              "\n",
              "    <script>\n",
              "      const buttonEl =\n",
              "        document.querySelector('#df-83813aae-a6cb-4b4e-b926-62d3cb071084 button.colab-df-convert');\n",
              "      buttonEl.style.display =\n",
              "        google.colab.kernel.accessAllowed ? 'block' : 'none';\n",
              "\n",
              "      async function convertToInteractive(key) {\n",
              "        const element = document.querySelector('#df-83813aae-a6cb-4b4e-b926-62d3cb071084');\n",
              "        const dataTable =\n",
              "          await google.colab.kernel.invokeFunction('convertToInteractive',\n",
              "                                                    [key], {});\n",
              "        if (!dataTable) return;\n",
              "\n",
              "        const docLinkHtml = 'Like what you see? Visit the ' +\n",
              "          '<a target=\"_blank\" href=https://colab.research.google.com/notebooks/data_table.ipynb>data table notebook</a>'\n",
              "          + ' to learn more about interactive tables.';\n",
              "        element.innerHTML = '';\n",
              "        dataTable['output_type'] = 'display_data';\n",
              "        await google.colab.output.renderOutput(dataTable, element);\n",
              "        const docLink = document.createElement('div');\n",
              "        docLink.innerHTML = docLinkHtml;\n",
              "        element.appendChild(docLink);\n",
              "      }\n",
              "    </script>\n",
              "  </div>\n",
              "\n",
              "\n",
              "<div id=\"df-edb2527b-de54-467a-8878-23002bb0d382\">\n",
              "  <button class=\"colab-df-quickchart\" onclick=\"quickchart('df-edb2527b-de54-467a-8878-23002bb0d382')\"\n",
              "            title=\"Suggest charts\"\n",
              "            style=\"display:none;\">\n",
              "\n",
              "<svg xmlns=\"http://www.w3.org/2000/svg\" height=\"24px\"viewBox=\"0 0 24 24\"\n",
              "     width=\"24px\">\n",
              "    <g>\n",
              "        <path d=\"M19 3H5c-1.1 0-2 .9-2 2v14c0 1.1.9 2 2 2h14c1.1 0 2-.9 2-2V5c0-1.1-.9-2-2-2zM9 17H7v-7h2v7zm4 0h-2V7h2v10zm4 0h-2v-4h2v4z\"/>\n",
              "    </g>\n",
              "</svg>\n",
              "  </button>\n",
              "\n",
              "<style>\n",
              "  .colab-df-quickchart {\n",
              "      --bg-color: #E8F0FE;\n",
              "      --fill-color: #1967D2;\n",
              "      --hover-bg-color: #E2EBFA;\n",
              "      --hover-fill-color: #174EA6;\n",
              "      --disabled-fill-color: #AAA;\n",
              "      --disabled-bg-color: #DDD;\n",
              "  }\n",
              "\n",
              "  [theme=dark] .colab-df-quickchart {\n",
              "      --bg-color: #3B4455;\n",
              "      --fill-color: #D2E3FC;\n",
              "      --hover-bg-color: #434B5C;\n",
              "      --hover-fill-color: #FFFFFF;\n",
              "      --disabled-bg-color: #3B4455;\n",
              "      --disabled-fill-color: #666;\n",
              "  }\n",
              "\n",
              "  .colab-df-quickchart {\n",
              "    background-color: var(--bg-color);\n",
              "    border: none;\n",
              "    border-radius: 50%;\n",
              "    cursor: pointer;\n",
              "    display: none;\n",
              "    fill: var(--fill-color);\n",
              "    height: 32px;\n",
              "    padding: 0;\n",
              "    width: 32px;\n",
              "  }\n",
              "\n",
              "  .colab-df-quickchart:hover {\n",
              "    background-color: var(--hover-bg-color);\n",
              "    box-shadow: 0 1px 2px rgba(60, 64, 67, 0.3), 0 1px 3px 1px rgba(60, 64, 67, 0.15);\n",
              "    fill: var(--button-hover-fill-color);\n",
              "  }\n",
              "\n",
              "  .colab-df-quickchart-complete:disabled,\n",
              "  .colab-df-quickchart-complete:disabled:hover {\n",
              "    background-color: var(--disabled-bg-color);\n",
              "    fill: var(--disabled-fill-color);\n",
              "    box-shadow: none;\n",
              "  }\n",
              "\n",
              "  .colab-df-spinner {\n",
              "    border: 2px solid var(--fill-color);\n",
              "    border-color: transparent;\n",
              "    border-bottom-color: var(--fill-color);\n",
              "    animation:\n",
              "      spin 1s steps(1) infinite;\n",
              "  }\n",
              "\n",
              "  @keyframes spin {\n",
              "    0% {\n",
              "      border-color: transparent;\n",
              "      border-bottom-color: var(--fill-color);\n",
              "      border-left-color: var(--fill-color);\n",
              "    }\n",
              "    20% {\n",
              "      border-color: transparent;\n",
              "      border-left-color: var(--fill-color);\n",
              "      border-top-color: var(--fill-color);\n",
              "    }\n",
              "    30% {\n",
              "      border-color: transparent;\n",
              "      border-left-color: var(--fill-color);\n",
              "      border-top-color: var(--fill-color);\n",
              "      border-right-color: var(--fill-color);\n",
              "    }\n",
              "    40% {\n",
              "      border-color: transparent;\n",
              "      border-right-color: var(--fill-color);\n",
              "      border-top-color: var(--fill-color);\n",
              "    }\n",
              "    60% {\n",
              "      border-color: transparent;\n",
              "      border-right-color: var(--fill-color);\n",
              "    }\n",
              "    80% {\n",
              "      border-color: transparent;\n",
              "      border-right-color: var(--fill-color);\n",
              "      border-bottom-color: var(--fill-color);\n",
              "    }\n",
              "    90% {\n",
              "      border-color: transparent;\n",
              "      border-bottom-color: var(--fill-color);\n",
              "    }\n",
              "  }\n",
              "</style>\n",
              "\n",
              "  <script>\n",
              "    async function quickchart(key) {\n",
              "      const quickchartButtonEl =\n",
              "        document.querySelector('#' + key + ' button');\n",
              "      quickchartButtonEl.disabled = true;  // To prevent multiple clicks.\n",
              "      quickchartButtonEl.classList.add('colab-df-spinner');\n",
              "      try {\n",
              "        const charts = await google.colab.kernel.invokeFunction(\n",
              "            'suggestCharts', [key], {});\n",
              "      } catch (error) {\n",
              "        console.error('Error during call to suggestCharts:', error);\n",
              "      }\n",
              "      quickchartButtonEl.classList.remove('colab-df-spinner');\n",
              "      quickchartButtonEl.classList.add('colab-df-quickchart-complete');\n",
              "    }\n",
              "    (() => {\n",
              "      let quickchartButtonEl =\n",
              "        document.querySelector('#df-edb2527b-de54-467a-8878-23002bb0d382 button');\n",
              "      quickchartButtonEl.style.display =\n",
              "        google.colab.kernel.accessAllowed ? 'block' : 'none';\n",
              "    })();\n",
              "  </script>\n",
              "</div>\n",
              "    </div>\n",
              "  </div>\n"
            ],
            "application/vnd.google.colaboratory.intrinsic+json": {
              "type": "dataframe",
              "variable_name": "diabetes_df",
              "summary": "{\n  \"name\": \"diabetes_df\",\n  \"rows\": 442,\n  \"fields\": [\n    {\n      \"column\": \"age\",\n      \"properties\": {\n        \"dtype\": \"number\",\n        \"std\": 0.0476190476190476,\n        \"min\": -0.1072256316073538,\n        \"max\": 0.11072667545381144,\n        \"num_unique_values\": 58,\n        \"samples\": [\n          0.038075906433423026,\n          -0.09269547780327612,\n          0.01991321417832592\n        ],\n        \"semantic_type\": \"\",\n        \"description\": \"\"\n      }\n    },\n    {\n      \"column\": \"sex\",\n      \"properties\": {\n        \"dtype\": \"number\",\n        \"std\": 0.0476190476190478,\n        \"min\": -0.044641636506989144,\n        \"max\": 0.05068011873981862,\n        \"num_unique_values\": 2,\n        \"samples\": [\n          -0.044641636506989144,\n          0.05068011873981862\n        ],\n        \"semantic_type\": \"\",\n        \"description\": \"\"\n      }\n    },\n    {\n      \"column\": \"bmi\",\n      \"properties\": {\n        \"dtype\": \"number\",\n        \"std\": 0.04761904761904761,\n        \"min\": -0.09027529589850945,\n        \"max\": 0.17055522598064407,\n        \"num_unique_values\": 163,\n        \"samples\": [\n          0.008883414898524095,\n          -0.05470749746044306\n        ],\n        \"semantic_type\": \"\",\n        \"description\": \"\"\n      }\n    },\n    {\n      \"column\": \"bp\",\n      \"properties\": {\n        \"dtype\": \"number\",\n        \"std\": 0.04761904761904762,\n        \"min\": -0.11239880254408448,\n        \"max\": 0.13204361674121307,\n        \"num_unique_values\": 100,\n        \"samples\": [\n          0.03333707926361473,\n          0.02531523648988596\n        ],\n        \"semantic_type\": \"\",\n        \"description\": \"\"\n      }\n    },\n    {\n      \"column\": \"s1\",\n      \"properties\": {\n        \"dtype\": \"number\",\n        \"std\": 0.047619047619047554,\n        \"min\": -0.12678066991651324,\n        \"max\": 0.15391371315651542,\n        \"num_unique_values\": 141,\n        \"samples\": [\n          0.041085578784023497,\n          0.08374011738825825\n        ],\n        \"semantic_type\": \"\",\n        \"description\": \"\"\n      }\n    },\n    {\n      \"column\": \"s2\",\n      \"properties\": {\n        \"dtype\": \"number\",\n        \"std\": 0.047619047619047644,\n        \"min\": -0.11561306597939897,\n        \"max\": 0.19878798965729408,\n        \"num_unique_values\": 302,\n        \"samples\": [\n          0.07415490186505921,\n          0.07008397186179521\n        ],\n        \"semantic_type\": \"\",\n        \"description\": \"\"\n      }\n    },\n    {\n      \"column\": \"s3\",\n      \"properties\": {\n        \"dtype\": \"number\",\n        \"std\": 0.04761904761904758,\n        \"min\": -0.10230705051741597,\n        \"max\": 0.18117906039727852,\n        \"num_unique_values\": 63,\n        \"samples\": [\n          0.09281975309919192,\n          0.15908923357275687\n        ],\n        \"semantic_type\": \"\",\n        \"description\": \"\"\n      }\n    },\n    {\n      \"column\": \"s4\",\n      \"properties\": {\n        \"dtype\": \"number\",\n        \"std\": 0.047619047619047554,\n        \"min\": -0.0763945037500033,\n        \"max\": 0.18523444326019867,\n        \"num_unique_values\": 66,\n        \"samples\": [\n          0.08670845052151895,\n          -0.024732934523729287\n        ],\n        \"semantic_type\": \"\",\n        \"description\": \"\"\n      }\n    },\n    {\n      \"column\": \"s5\",\n      \"properties\": {\n        \"dtype\": \"number\",\n        \"std\": 0.04761904761904763,\n        \"min\": -0.12609712083330468,\n        \"max\": 0.13359728192191356,\n        \"num_unique_values\": 184,\n        \"samples\": [\n          -0.07213275338232743,\n          -0.021395309255276825\n        ],\n        \"semantic_type\": \"\",\n        \"description\": \"\"\n      }\n    },\n    {\n      \"column\": \"s6\",\n      \"properties\": {\n        \"dtype\": \"number\",\n        \"std\": 0.04761904761904766,\n        \"min\": -0.13776722569000302,\n        \"max\": 0.13561183068907107,\n        \"num_unique_values\": 56,\n        \"samples\": [\n          -0.01764612515980379,\n          -0.09634615654165846\n        ],\n        \"semantic_type\": \"\",\n        \"description\": \"\"\n      }\n    },\n    {\n      \"column\": \"target\",\n      \"properties\": {\n        \"dtype\": \"number\",\n        \"std\": 77.09300453299109,\n        \"min\": 25.0,\n        \"max\": 346.0,\n        \"num_unique_values\": 214,\n        \"samples\": [\n          310.0,\n          140.0\n        ],\n        \"semantic_type\": \"\",\n        \"description\": \"\"\n      }\n    }\n  ]\n}"
            }
          },
          "metadata": {},
          "execution_count": 4
        }
      ],
      "source": [
        "diabetes_df = pd.DataFrame(data = diabetes.data, columns = diabetes.feature_names)\n",
        "diabetes_df['target'] = diabetes.target\n",
        "diabetes_df.head(5)"
      ]
    },
    {
      "cell_type": "markdown",
      "metadata": {
        "id": "0NIzrlkps-pm"
      },
      "source": [
        "3. Выведете информацию о типах данных в наборе. Имеются ли в наборе категориальные признаки? Имеются ли в наборе данные имеющие значение null?"
      ]
    },
    {
      "cell_type": "code",
      "execution_count": 5,
      "metadata": {
        "id": "tMhG_QSZs-pm",
        "outputId": "5927e65a-4646-4aa8-a1fe-7e13a7245c4e",
        "colab": {
          "base_uri": "https://localhost:8080/"
        }
      },
      "outputs": [
        {
          "output_type": "stream",
          "name": "stdout",
          "text": [
            "<class 'pandas.core.frame.DataFrame'>\n",
            "RangeIndex: 442 entries, 0 to 441\n",
            "Data columns (total 11 columns):\n",
            " #   Column  Non-Null Count  Dtype  \n",
            "---  ------  --------------  -----  \n",
            " 0   age     442 non-null    float64\n",
            " 1   sex     442 non-null    float64\n",
            " 2   bmi     442 non-null    float64\n",
            " 3   bp      442 non-null    float64\n",
            " 4   s1      442 non-null    float64\n",
            " 5   s2      442 non-null    float64\n",
            " 6   s3      442 non-null    float64\n",
            " 7   s4      442 non-null    float64\n",
            " 8   s5      442 non-null    float64\n",
            " 9   s6      442 non-null    float64\n",
            " 10  target  442 non-null    float64\n",
            "dtypes: float64(11)\n",
            "memory usage: 38.1 KB\n",
            "None\n",
            "\n",
            "There are no categorical features since all features ​​are numbers.\n",
            "\n",
            "age       0\n",
            "sex       0\n",
            "bmi       0\n",
            "bp        0\n",
            "s1        0\n",
            "s2        0\n",
            "s3        0\n",
            "s4        0\n",
            "s5        0\n",
            "s6        0\n",
            "target    0\n",
            "dtype: int64\n",
            "\n",
            "There are no null values in the dataframe.\n",
            "\n"
          ]
        }
      ],
      "source": [
        "print(diabetes_df.info())\n",
        "print(\"\\nThere are no categorical features since all features ​​are numbers.\\n\")\n",
        "print(diabetes_df.isnull().sum())\n",
        "print(\"\\nThere are no null values in the dataframe.\\n\")"
      ]
    },
    {
      "cell_type": "markdown",
      "metadata": {
        "id": "Si8meXlMs-pm"
      },
      "source": [
        "## Исследование данных"
      ]
    },
    {
      "cell_type": "markdown",
      "metadata": {
        "id": "80rxfd-ys-pm"
      },
      "source": [
        "4. Постройте матрицу корреляции."
      ]
    },
    {
      "cell_type": "code",
      "execution_count": 6,
      "metadata": {
        "id": "lUYq3vuKs-pm",
        "outputId": "51c5f0dd-ef26-45d3-c81f-5c63608dfdc4",
        "colab": {
          "base_uri": "https://localhost:8080/",
          "height": 394
        }
      },
      "outputs": [
        {
          "output_type": "execute_result",
          "data": {
            "text/plain": [
              "             age       sex       bmi        bp        s1        s2        s3  \\\n",
              "age     1.000000  0.173737  0.185085  0.335428  0.260061  0.219243 -0.075181   \n",
              "sex     0.173737  1.000000  0.088161  0.241010  0.035277  0.142637 -0.379090   \n",
              "bmi     0.185085  0.088161  1.000000  0.395411  0.249777  0.261170 -0.366811   \n",
              "bp      0.335428  0.241010  0.395411  1.000000  0.242464  0.185548 -0.178762   \n",
              "s1      0.260061  0.035277  0.249777  0.242464  1.000000  0.896663  0.051519   \n",
              "s2      0.219243  0.142637  0.261170  0.185548  0.896663  1.000000 -0.196455   \n",
              "s3     -0.075181 -0.379090 -0.366811 -0.178762  0.051519 -0.196455  1.000000   \n",
              "s4      0.203841  0.332115  0.413807  0.257650  0.542207  0.659817 -0.738493   \n",
              "s5      0.270774  0.149916  0.446157  0.393480  0.515503  0.318357 -0.398577   \n",
              "s6      0.301731  0.208133  0.388680  0.390430  0.325717  0.290600 -0.273697   \n",
              "target  0.187889  0.043062  0.586450  0.441482  0.212022  0.174054 -0.394789   \n",
              "\n",
              "              s4        s5        s6    target  \n",
              "age     0.203841  0.270774  0.301731  0.187889  \n",
              "sex     0.332115  0.149916  0.208133  0.043062  \n",
              "bmi     0.413807  0.446157  0.388680  0.586450  \n",
              "bp      0.257650  0.393480  0.390430  0.441482  \n",
              "s1      0.542207  0.515503  0.325717  0.212022  \n",
              "s2      0.659817  0.318357  0.290600  0.174054  \n",
              "s3     -0.738493 -0.398577 -0.273697 -0.394789  \n",
              "s4      1.000000  0.617859  0.417212  0.430453  \n",
              "s5      0.617859  1.000000  0.464669  0.565883  \n",
              "s6      0.417212  0.464669  1.000000  0.382483  \n",
              "target  0.430453  0.565883  0.382483  1.000000  "
            ],
            "text/html": [
              "\n",
              "  <div id=\"df-6bf8df5d-a25e-48ea-84e9-c8f8e1d05322\" class=\"colab-df-container\">\n",
              "    <div>\n",
              "<style scoped>\n",
              "    .dataframe tbody tr th:only-of-type {\n",
              "        vertical-align: middle;\n",
              "    }\n",
              "\n",
              "    .dataframe tbody tr th {\n",
              "        vertical-align: top;\n",
              "    }\n",
              "\n",
              "    .dataframe thead th {\n",
              "        text-align: right;\n",
              "    }\n",
              "</style>\n",
              "<table border=\"1\" class=\"dataframe\">\n",
              "  <thead>\n",
              "    <tr style=\"text-align: right;\">\n",
              "      <th></th>\n",
              "      <th>age</th>\n",
              "      <th>sex</th>\n",
              "      <th>bmi</th>\n",
              "      <th>bp</th>\n",
              "      <th>s1</th>\n",
              "      <th>s2</th>\n",
              "      <th>s3</th>\n",
              "      <th>s4</th>\n",
              "      <th>s5</th>\n",
              "      <th>s6</th>\n",
              "      <th>target</th>\n",
              "    </tr>\n",
              "  </thead>\n",
              "  <tbody>\n",
              "    <tr>\n",
              "      <th>age</th>\n",
              "      <td>1.000000</td>\n",
              "      <td>0.173737</td>\n",
              "      <td>0.185085</td>\n",
              "      <td>0.335428</td>\n",
              "      <td>0.260061</td>\n",
              "      <td>0.219243</td>\n",
              "      <td>-0.075181</td>\n",
              "      <td>0.203841</td>\n",
              "      <td>0.270774</td>\n",
              "      <td>0.301731</td>\n",
              "      <td>0.187889</td>\n",
              "    </tr>\n",
              "    <tr>\n",
              "      <th>sex</th>\n",
              "      <td>0.173737</td>\n",
              "      <td>1.000000</td>\n",
              "      <td>0.088161</td>\n",
              "      <td>0.241010</td>\n",
              "      <td>0.035277</td>\n",
              "      <td>0.142637</td>\n",
              "      <td>-0.379090</td>\n",
              "      <td>0.332115</td>\n",
              "      <td>0.149916</td>\n",
              "      <td>0.208133</td>\n",
              "      <td>0.043062</td>\n",
              "    </tr>\n",
              "    <tr>\n",
              "      <th>bmi</th>\n",
              "      <td>0.185085</td>\n",
              "      <td>0.088161</td>\n",
              "      <td>1.000000</td>\n",
              "      <td>0.395411</td>\n",
              "      <td>0.249777</td>\n",
              "      <td>0.261170</td>\n",
              "      <td>-0.366811</td>\n",
              "      <td>0.413807</td>\n",
              "      <td>0.446157</td>\n",
              "      <td>0.388680</td>\n",
              "      <td>0.586450</td>\n",
              "    </tr>\n",
              "    <tr>\n",
              "      <th>bp</th>\n",
              "      <td>0.335428</td>\n",
              "      <td>0.241010</td>\n",
              "      <td>0.395411</td>\n",
              "      <td>1.000000</td>\n",
              "      <td>0.242464</td>\n",
              "      <td>0.185548</td>\n",
              "      <td>-0.178762</td>\n",
              "      <td>0.257650</td>\n",
              "      <td>0.393480</td>\n",
              "      <td>0.390430</td>\n",
              "      <td>0.441482</td>\n",
              "    </tr>\n",
              "    <tr>\n",
              "      <th>s1</th>\n",
              "      <td>0.260061</td>\n",
              "      <td>0.035277</td>\n",
              "      <td>0.249777</td>\n",
              "      <td>0.242464</td>\n",
              "      <td>1.000000</td>\n",
              "      <td>0.896663</td>\n",
              "      <td>0.051519</td>\n",
              "      <td>0.542207</td>\n",
              "      <td>0.515503</td>\n",
              "      <td>0.325717</td>\n",
              "      <td>0.212022</td>\n",
              "    </tr>\n",
              "    <tr>\n",
              "      <th>s2</th>\n",
              "      <td>0.219243</td>\n",
              "      <td>0.142637</td>\n",
              "      <td>0.261170</td>\n",
              "      <td>0.185548</td>\n",
              "      <td>0.896663</td>\n",
              "      <td>1.000000</td>\n",
              "      <td>-0.196455</td>\n",
              "      <td>0.659817</td>\n",
              "      <td>0.318357</td>\n",
              "      <td>0.290600</td>\n",
              "      <td>0.174054</td>\n",
              "    </tr>\n",
              "    <tr>\n",
              "      <th>s3</th>\n",
              "      <td>-0.075181</td>\n",
              "      <td>-0.379090</td>\n",
              "      <td>-0.366811</td>\n",
              "      <td>-0.178762</td>\n",
              "      <td>0.051519</td>\n",
              "      <td>-0.196455</td>\n",
              "      <td>1.000000</td>\n",
              "      <td>-0.738493</td>\n",
              "      <td>-0.398577</td>\n",
              "      <td>-0.273697</td>\n",
              "      <td>-0.394789</td>\n",
              "    </tr>\n",
              "    <tr>\n",
              "      <th>s4</th>\n",
              "      <td>0.203841</td>\n",
              "      <td>0.332115</td>\n",
              "      <td>0.413807</td>\n",
              "      <td>0.257650</td>\n",
              "      <td>0.542207</td>\n",
              "      <td>0.659817</td>\n",
              "      <td>-0.738493</td>\n",
              "      <td>1.000000</td>\n",
              "      <td>0.617859</td>\n",
              "      <td>0.417212</td>\n",
              "      <td>0.430453</td>\n",
              "    </tr>\n",
              "    <tr>\n",
              "      <th>s5</th>\n",
              "      <td>0.270774</td>\n",
              "      <td>0.149916</td>\n",
              "      <td>0.446157</td>\n",
              "      <td>0.393480</td>\n",
              "      <td>0.515503</td>\n",
              "      <td>0.318357</td>\n",
              "      <td>-0.398577</td>\n",
              "      <td>0.617859</td>\n",
              "      <td>1.000000</td>\n",
              "      <td>0.464669</td>\n",
              "      <td>0.565883</td>\n",
              "    </tr>\n",
              "    <tr>\n",
              "      <th>s6</th>\n",
              "      <td>0.301731</td>\n",
              "      <td>0.208133</td>\n",
              "      <td>0.388680</td>\n",
              "      <td>0.390430</td>\n",
              "      <td>0.325717</td>\n",
              "      <td>0.290600</td>\n",
              "      <td>-0.273697</td>\n",
              "      <td>0.417212</td>\n",
              "      <td>0.464669</td>\n",
              "      <td>1.000000</td>\n",
              "      <td>0.382483</td>\n",
              "    </tr>\n",
              "    <tr>\n",
              "      <th>target</th>\n",
              "      <td>0.187889</td>\n",
              "      <td>0.043062</td>\n",
              "      <td>0.586450</td>\n",
              "      <td>0.441482</td>\n",
              "      <td>0.212022</td>\n",
              "      <td>0.174054</td>\n",
              "      <td>-0.394789</td>\n",
              "      <td>0.430453</td>\n",
              "      <td>0.565883</td>\n",
              "      <td>0.382483</td>\n",
              "      <td>1.000000</td>\n",
              "    </tr>\n",
              "  </tbody>\n",
              "</table>\n",
              "</div>\n",
              "    <div class=\"colab-df-buttons\">\n",
              "\n",
              "  <div class=\"colab-df-container\">\n",
              "    <button class=\"colab-df-convert\" onclick=\"convertToInteractive('df-6bf8df5d-a25e-48ea-84e9-c8f8e1d05322')\"\n",
              "            title=\"Convert this dataframe to an interactive table.\"\n",
              "            style=\"display:none;\">\n",
              "\n",
              "  <svg xmlns=\"http://www.w3.org/2000/svg\" height=\"24px\" viewBox=\"0 -960 960 960\">\n",
              "    <path d=\"M120-120v-720h720v720H120Zm60-500h600v-160H180v160Zm220 220h160v-160H400v160Zm0 220h160v-160H400v160ZM180-400h160v-160H180v160Zm440 0h160v-160H620v160ZM180-180h160v-160H180v160Zm440 0h160v-160H620v160Z\"/>\n",
              "  </svg>\n",
              "    </button>\n",
              "\n",
              "  <style>\n",
              "    .colab-df-container {\n",
              "      display:flex;\n",
              "      gap: 12px;\n",
              "    }\n",
              "\n",
              "    .colab-df-convert {\n",
              "      background-color: #E8F0FE;\n",
              "      border: none;\n",
              "      border-radius: 50%;\n",
              "      cursor: pointer;\n",
              "      display: none;\n",
              "      fill: #1967D2;\n",
              "      height: 32px;\n",
              "      padding: 0 0 0 0;\n",
              "      width: 32px;\n",
              "    }\n",
              "\n",
              "    .colab-df-convert:hover {\n",
              "      background-color: #E2EBFA;\n",
              "      box-shadow: 0px 1px 2px rgba(60, 64, 67, 0.3), 0px 1px 3px 1px rgba(60, 64, 67, 0.15);\n",
              "      fill: #174EA6;\n",
              "    }\n",
              "\n",
              "    .colab-df-buttons div {\n",
              "      margin-bottom: 4px;\n",
              "    }\n",
              "\n",
              "    [theme=dark] .colab-df-convert {\n",
              "      background-color: #3B4455;\n",
              "      fill: #D2E3FC;\n",
              "    }\n",
              "\n",
              "    [theme=dark] .colab-df-convert:hover {\n",
              "      background-color: #434B5C;\n",
              "      box-shadow: 0px 1px 3px 1px rgba(0, 0, 0, 0.15);\n",
              "      filter: drop-shadow(0px 1px 2px rgba(0, 0, 0, 0.3));\n",
              "      fill: #FFFFFF;\n",
              "    }\n",
              "  </style>\n",
              "\n",
              "    <script>\n",
              "      const buttonEl =\n",
              "        document.querySelector('#df-6bf8df5d-a25e-48ea-84e9-c8f8e1d05322 button.colab-df-convert');\n",
              "      buttonEl.style.display =\n",
              "        google.colab.kernel.accessAllowed ? 'block' : 'none';\n",
              "\n",
              "      async function convertToInteractive(key) {\n",
              "        const element = document.querySelector('#df-6bf8df5d-a25e-48ea-84e9-c8f8e1d05322');\n",
              "        const dataTable =\n",
              "          await google.colab.kernel.invokeFunction('convertToInteractive',\n",
              "                                                    [key], {});\n",
              "        if (!dataTable) return;\n",
              "\n",
              "        const docLinkHtml = 'Like what you see? Visit the ' +\n",
              "          '<a target=\"_blank\" href=https://colab.research.google.com/notebooks/data_table.ipynb>data table notebook</a>'\n",
              "          + ' to learn more about interactive tables.';\n",
              "        element.innerHTML = '';\n",
              "        dataTable['output_type'] = 'display_data';\n",
              "        await google.colab.output.renderOutput(dataTable, element);\n",
              "        const docLink = document.createElement('div');\n",
              "        docLink.innerHTML = docLinkHtml;\n",
              "        element.appendChild(docLink);\n",
              "      }\n",
              "    </script>\n",
              "  </div>\n",
              "\n",
              "\n",
              "<div id=\"df-9ff7ff51-19f2-4bf1-94e2-ebdd0f41a00c\">\n",
              "  <button class=\"colab-df-quickchart\" onclick=\"quickchart('df-9ff7ff51-19f2-4bf1-94e2-ebdd0f41a00c')\"\n",
              "            title=\"Suggest charts\"\n",
              "            style=\"display:none;\">\n",
              "\n",
              "<svg xmlns=\"http://www.w3.org/2000/svg\" height=\"24px\"viewBox=\"0 0 24 24\"\n",
              "     width=\"24px\">\n",
              "    <g>\n",
              "        <path d=\"M19 3H5c-1.1 0-2 .9-2 2v14c0 1.1.9 2 2 2h14c1.1 0 2-.9 2-2V5c0-1.1-.9-2-2-2zM9 17H7v-7h2v7zm4 0h-2V7h2v10zm4 0h-2v-4h2v4z\"/>\n",
              "    </g>\n",
              "</svg>\n",
              "  </button>\n",
              "\n",
              "<style>\n",
              "  .colab-df-quickchart {\n",
              "      --bg-color: #E8F0FE;\n",
              "      --fill-color: #1967D2;\n",
              "      --hover-bg-color: #E2EBFA;\n",
              "      --hover-fill-color: #174EA6;\n",
              "      --disabled-fill-color: #AAA;\n",
              "      --disabled-bg-color: #DDD;\n",
              "  }\n",
              "\n",
              "  [theme=dark] .colab-df-quickchart {\n",
              "      --bg-color: #3B4455;\n",
              "      --fill-color: #D2E3FC;\n",
              "      --hover-bg-color: #434B5C;\n",
              "      --hover-fill-color: #FFFFFF;\n",
              "      --disabled-bg-color: #3B4455;\n",
              "      --disabled-fill-color: #666;\n",
              "  }\n",
              "\n",
              "  .colab-df-quickchart {\n",
              "    background-color: var(--bg-color);\n",
              "    border: none;\n",
              "    border-radius: 50%;\n",
              "    cursor: pointer;\n",
              "    display: none;\n",
              "    fill: var(--fill-color);\n",
              "    height: 32px;\n",
              "    padding: 0;\n",
              "    width: 32px;\n",
              "  }\n",
              "\n",
              "  .colab-df-quickchart:hover {\n",
              "    background-color: var(--hover-bg-color);\n",
              "    box-shadow: 0 1px 2px rgba(60, 64, 67, 0.3), 0 1px 3px 1px rgba(60, 64, 67, 0.15);\n",
              "    fill: var(--button-hover-fill-color);\n",
              "  }\n",
              "\n",
              "  .colab-df-quickchart-complete:disabled,\n",
              "  .colab-df-quickchart-complete:disabled:hover {\n",
              "    background-color: var(--disabled-bg-color);\n",
              "    fill: var(--disabled-fill-color);\n",
              "    box-shadow: none;\n",
              "  }\n",
              "\n",
              "  .colab-df-spinner {\n",
              "    border: 2px solid var(--fill-color);\n",
              "    border-color: transparent;\n",
              "    border-bottom-color: var(--fill-color);\n",
              "    animation:\n",
              "      spin 1s steps(1) infinite;\n",
              "  }\n",
              "\n",
              "  @keyframes spin {\n",
              "    0% {\n",
              "      border-color: transparent;\n",
              "      border-bottom-color: var(--fill-color);\n",
              "      border-left-color: var(--fill-color);\n",
              "    }\n",
              "    20% {\n",
              "      border-color: transparent;\n",
              "      border-left-color: var(--fill-color);\n",
              "      border-top-color: var(--fill-color);\n",
              "    }\n",
              "    30% {\n",
              "      border-color: transparent;\n",
              "      border-left-color: var(--fill-color);\n",
              "      border-top-color: var(--fill-color);\n",
              "      border-right-color: var(--fill-color);\n",
              "    }\n",
              "    40% {\n",
              "      border-color: transparent;\n",
              "      border-right-color: var(--fill-color);\n",
              "      border-top-color: var(--fill-color);\n",
              "    }\n",
              "    60% {\n",
              "      border-color: transparent;\n",
              "      border-right-color: var(--fill-color);\n",
              "    }\n",
              "    80% {\n",
              "      border-color: transparent;\n",
              "      border-right-color: var(--fill-color);\n",
              "      border-bottom-color: var(--fill-color);\n",
              "    }\n",
              "    90% {\n",
              "      border-color: transparent;\n",
              "      border-bottom-color: var(--fill-color);\n",
              "    }\n",
              "  }\n",
              "</style>\n",
              "\n",
              "  <script>\n",
              "    async function quickchart(key) {\n",
              "      const quickchartButtonEl =\n",
              "        document.querySelector('#' + key + ' button');\n",
              "      quickchartButtonEl.disabled = true;  // To prevent multiple clicks.\n",
              "      quickchartButtonEl.classList.add('colab-df-spinner');\n",
              "      try {\n",
              "        const charts = await google.colab.kernel.invokeFunction(\n",
              "            'suggestCharts', [key], {});\n",
              "      } catch (error) {\n",
              "        console.error('Error during call to suggestCharts:', error);\n",
              "      }\n",
              "      quickchartButtonEl.classList.remove('colab-df-spinner');\n",
              "      quickchartButtonEl.classList.add('colab-df-quickchart-complete');\n",
              "    }\n",
              "    (() => {\n",
              "      let quickchartButtonEl =\n",
              "        document.querySelector('#df-9ff7ff51-19f2-4bf1-94e2-ebdd0f41a00c button');\n",
              "      quickchartButtonEl.style.display =\n",
              "        google.colab.kernel.accessAllowed ? 'block' : 'none';\n",
              "    })();\n",
              "  </script>\n",
              "</div>\n",
              "    </div>\n",
              "  </div>\n"
            ],
            "application/vnd.google.colaboratory.intrinsic+json": {
              "type": "dataframe",
              "variable_name": "matr",
              "summary": "{\n  \"name\": \"matr\",\n  \"rows\": 11,\n  \"fields\": [\n    {\n      \"column\": \"age\",\n      \"properties\": {\n        \"dtype\": \"number\",\n        \"std\": 0.2620744121500733,\n        \"min\": -0.07518097487514622,\n        \"max\": 1.0,\n        \"num_unique_values\": 11,\n        \"samples\": [\n          0.21924313984750804,\n          1.0,\n          0.30173100763283783\n        ],\n        \"semantic_type\": \"\",\n        \"description\": \"\"\n      }\n    },\n    {\n      \"column\": \"sex\",\n      \"properties\": {\n        \"dtype\": \"number\",\n        \"std\": 0.3260108517745142,\n        \"min\": -0.3790896292273317,\n        \"max\": 1.0,\n        \"num_unique_values\": 11,\n        \"samples\": [\n          0.14263725703350016,\n          0.1737371005636606,\n          0.20813321620038897\n        ],\n        \"semantic_type\": \"\",\n        \"description\": \"\"\n      }\n    },\n    {\n      \"column\": \"bmi\",\n      \"properties\": {\n        \"dtype\": \"number\",\n        \"std\": 0.33452661298785613,\n        \"min\": -0.3668109784050295,\n        \"max\": 1.0,\n        \"num_unique_values\": 11,\n        \"samples\": [\n          0.2611699111644256,\n          0.18508466614655555,\n          0.3886799939000389\n        ],\n        \"semantic_type\": \"\",\n        \"description\": \"\"\n      }\n    },\n    {\n      \"column\": \"bp\",\n      \"properties\": {\n        \"dtype\": \"number\",\n        \"std\": 0.27808970692808965,\n        \"min\": -0.17876163122564295,\n        \"max\": 1.0,\n        \"num_unique_values\": 11,\n        \"samples\": [\n          0.18554846261290042,\n          0.33542758706707276,\n          0.3904300231160371\n        ],\n        \"semantic_type\": \"\",\n        \"description\": \"\"\n      }\n    },\n    {\n      \"column\": \"s1\",\n      \"properties\": {\n        \"dtype\": \"number\",\n        \"std\": 0.31655812017213997,\n        \"min\": 0.03527681917552952,\n        \"max\": 1.0,\n        \"num_unique_values\": 11,\n        \"samples\": [\n          0.8966629578104894,\n          0.2600608201502612,\n          0.3257167530607091\n        ],\n        \"semantic_type\": \"\",\n        \"description\": \"\"\n      }\n    },\n    {\n      \"column\": \"s2\",\n      \"properties\": {\n        \"dtype\": \"number\",\n        \"std\": 0.35291919245373,\n        \"min\": -0.19645512374417917,\n        \"max\": 1.0,\n        \"num_unique_values\": 11,\n        \"samples\": [\n          1.0,\n          0.21924313984750804,\n          0.29060037549704454\n        ],\n        \"semantic_type\": \"\",\n        \"description\": \"\"\n      }\n    },\n    {\n      \"column\": \"s3\",\n      \"properties\": {\n        \"dtype\": \"number\",\n        \"std\": 0.4411710939129025,\n        \"min\": -0.7384927292583823,\n        \"max\": 1.0,\n        \"num_unique_values\": 11,\n        \"samples\": [\n          -0.19645512374417917,\n          -0.07518097487514622,\n          -0.2736973014758417\n        ],\n        \"semantic_type\": \"\",\n        \"description\": \"\"\n      }\n    },\n    {\n      \"column\": \"s4\",\n      \"properties\": {\n        \"dtype\": \"number\",\n        \"std\": 0.43009381746438174,\n        \"min\": -0.7384927292583823,\n        \"max\": 1.0,\n        \"num_unique_values\": 11,\n        \"samples\": [\n          0.6598168886666438,\n          0.20384089972875527,\n          0.4172121137122003\n        ],\n        \"semantic_type\": \"\",\n        \"description\": \"\"\n      }\n    },\n    {\n      \"column\": \"s5\",\n      \"properties\": {\n        \"dtype\": \"number\",\n        \"std\": 0.3432234200182778,\n        \"min\": -0.39857729342870957,\n        \"max\": 1.0,\n        \"num_unique_values\": 11,\n        \"samples\": [\n          0.3183566651415615,\n          0.2707742414181665,\n          0.46466884669136804\n        ],\n        \"semantic_type\": \"\",\n        \"description\": \"\"\n      }\n    },\n    {\n      \"column\": \"s6\",\n      \"properties\": {\n        \"dtype\": \"number\",\n        \"std\": 0.2932119875757569,\n        \"min\": -0.2736973014758417,\n        \"max\": 1.0,\n        \"num_unique_values\": 11,\n        \"samples\": [\n          0.29060037549704454,\n          0.30173100763283783,\n          1.0\n        ],\n        \"semantic_type\": \"\",\n        \"description\": \"\"\n      }\n    },\n    {\n      \"column\": \"target\",\n      \"properties\": {\n        \"dtype\": \"number\",\n        \"std\": 0.3551995378718645,\n        \"min\": -0.39478925067091836,\n        \"max\": 1.0,\n        \"num_unique_values\": 11,\n        \"samples\": [\n          0.1740535869687425,\n          0.1878887507189197,\n          0.3824834842485807\n        ],\n        \"semantic_type\": \"\",\n        \"description\": \"\"\n      }\n    }\n  ]\n}"
            }
          },
          "metadata": {},
          "execution_count": 6
        }
      ],
      "source": [
        "matr = diabetes_df.corr()\n",
        "matr"
      ]
    },
    {
      "cell_type": "markdown",
      "metadata": {
        "id": "0RRIvhHds-pm"
      },
      "source": [
        "5. Постройте диаграмму рассеяния целевого значение и признака, коэффициент корреляции которого с  целевым значением, самый высокий."
      ]
    },
    {
      "cell_type": "markdown",
      "metadata": {
        "id": "MzkNQAHCs-pm"
      },
      "source": []
    },
    {
      "cell_type": "code",
      "execution_count": 7,
      "metadata": {
        "id": "VNjc-E9Zs-pm",
        "outputId": "85d01d11-e0f1-48e4-fc56-a478126eaa96",
        "colab": {
          "base_uri": "https://localhost:8080/",
          "height": 489
        }
      },
      "outputs": [
        {
          "output_type": "execute_result",
          "data": {
            "text/plain": [
              "Text(0.5, 1.0, 'Scatter plot')"
            ]
          },
          "metadata": {},
          "execution_count": 7
        },
        {
          "output_type": "display_data",
          "data": {
            "text/plain": [
              "<Figure size 640x480 with 1 Axes>"
            ],
            "image/png": "[encoded data removed]"
          },
          "metadata": {}
        }
      ],
      "source": [
        "feature = matr.loc[matr['target'] != 1, 'target'].idxmax()\n",
        "x = diabetes_df[feature]\n",
        "y = diabetes_df['target']\n",
        "plt.scatter(x,y)\n",
        "plt.xlabel(feature)\n",
        "plt.ylabel(\"target\")\n",
        "plt.title(\"Scatter plot\")"
      ]
    },
    {
      "cell_type": "markdown",
      "metadata": {
        "id": "Xzhs-OqJs-pm"
      },
      "source": [
        "6. Сформируйте набор признаков (X) из 5 признаков с самым высоким коэффициентом корреляции с целевым значением. Сформируйте набор для целевого значения (y)."
      ]
    },
    {
      "cell_type": "code",
      "execution_count": 8,
      "metadata": {
        "id": "-frwjEBss-pm",
        "outputId": "1c10e2fb-b299-460e-ea7b-5786cae51b82",
        "colab": {
          "base_uri": "https://localhost:8080/"
        }
      },
      "outputs": [
        {
          "output_type": "stream",
          "name": "stdout",
          "text": [
            "          bmi        s5        bp        s4        s3\n",
            "0    0.061696  0.019907  0.021872 -0.002592 -0.043401\n",
            "1   -0.051474 -0.068332 -0.026328 -0.039493  0.074412\n",
            "2    0.044451  0.002861 -0.005670 -0.002592 -0.032356\n",
            "3   -0.011595  0.022688 -0.036656  0.034309 -0.036038\n",
            "4   -0.036385 -0.031988  0.021872 -0.002592  0.008142\n",
            "..        ...       ...       ...       ...       ...\n",
            "437  0.019662  0.031193  0.059744 -0.002592 -0.028674\n",
            "438 -0.015906 -0.018114 -0.067642  0.034309 -0.028674\n",
            "439 -0.015906 -0.046883  0.017293 -0.011080 -0.024993\n",
            "440  0.039062  0.044529  0.001215  0.026560 -0.028674\n",
            "441 -0.073030 -0.004222 -0.081413 -0.039493  0.173816\n",
            "\n",
            "[442 rows x 5 columns] 0      151.0\n",
            "1       75.0\n",
            "2      141.0\n",
            "3      206.0\n",
            "4      135.0\n",
            "       ...  \n",
            "437    178.0\n",
            "438    104.0\n",
            "439    132.0\n",
            "440    220.0\n",
            "441     57.0\n",
            "Name: target, Length: 442, dtype: float64\n"
          ]
        }
      ],
      "source": [
        "features = matr.loc[matr['target'] != 1, 'target'].abs().nlargest(5).index\n",
        "X = diabetes_df[features]\n",
        "y = diabetes_df['target']\n",
        "print(X, y)"
      ]
    },
    {
      "cell_type": "markdown",
      "metadata": {
        "id": "hUMaINqhs-pm"
      },
      "source": [
        "## Предсказательная модель"
      ]
    },
    {
      "cell_type": "markdown",
      "metadata": {
        "id": "VgULRYfss-pn"
      },
      "source": [
        "7. Разделите набор данных на два, одни для обучения модели другой для проверки. Тестовый набор должен содержать 25 процентов данных."
      ]
    },
    {
      "cell_type": "code",
      "execution_count": 11,
      "metadata": {
        "id": "Rh6xj6vZs-pn"
      },
      "outputs": [],
      "source": [
        "from sklearn.model_selection import train_test_split\n",
        "X_train, X_test, y_train, y_test = train_test_split(X, y, train_size=0.25, random_state=42)"
      ]
    },
    {
      "cell_type": "markdown",
      "metadata": {
        "id": "wMIuQ1Q7s-pn"
      },
      "source": [
        "8. Выполните обучение модели."
      ]
    },
    {
      "cell_type": "code",
      "execution_count": 12,
      "metadata": {
        "id": "Mi9qX2Wws-pn",
        "outputId": "0581ed6d-bfc9-4bca-c363-3ccf888e49e9",
        "colab": {
          "base_uri": "https://localhost:8080/"
        }
      },
      "outputs": [
        {
          "output_type": "stream",
          "name": "stdout",
          "text": [
            "[132.80992445 175.05566388 151.18309658 234.55669373 120.24582926]\n",
            "287    219.0\n",
            "211     70.0\n",
            "72     202.0\n",
            "321    230.0\n",
            "73     111.0\n",
            "Name: target, dtype: float64\n"
          ]
        }
      ],
      "source": [
        "from sklearn.linear_model import LinearRegression\n",
        "model = LinearRegression()\n",
        "model.fit(X_train,y_train)\n",
        "y_pred = model.predict(X_test)\n",
        "print(y_pred[:5])\n",
        "print(y_test[:5])"
      ]
    },
    {
      "cell_type": "markdown",
      "metadata": {
        "id": "I_9gdpFis-pn"
      },
      "source": [
        "## Проверка модели"
      ]
    },
    {
      "cell_type": "markdown",
      "metadata": {
        "id": "VQDIqcnas-pn"
      },
      "source": [
        "9. Расчитайте Root mean squared error (RMSE)"
      ]
    },
    {
      "cell_type": "code",
      "execution_count": 13,
      "metadata": {
        "id": "yKHpcEH1s-pn",
        "outputId": "db3fa927-5939-42bd-cbb7-cb69d2d257d4",
        "colab": {
          "base_uri": "https://localhost:8080/"
        }
      },
      "outputs": [
        {
          "output_type": "stream",
          "name": "stdout",
          "text": [
            "Root mean squared error (RMSE) =  58.51740342454687\n"
          ]
        }
      ],
      "source": [
        "from sklearn import metrics\n",
        "print('Root mean squared error (RMSE) = ', np.sqrt(metrics.mean_squared_error(y_test, y_pred)))"
      ]
    },
    {
      "cell_type": "markdown",
      "metadata": {
        "id": "b1beX0jSs-pn"
      },
      "source": [
        "10. Расчитайте R² (коэффициент детерминации)"
      ]
    },
    {
      "cell_type": "code",
      "execution_count": 14,
      "metadata": {
        "id": "SlFmciD7s-pn",
        "outputId": "5f0d53a3-2601-4c8e-f6bf-ce7f0b417044",
        "colab": {
          "base_uri": "https://localhost:8080/"
        }
      },
      "outputs": [
        {
          "output_type": "stream",
          "name": "stdout",
          "text": [
            "R2 =  0.6465342225766915\n"
          ]
        }
      ],
      "source": [
        "print('R2 = ', np.sqrt(metrics.r2_score(y_test, y_pred)))"
      ]
    },
    {
      "cell_type": "markdown",
      "metadata": {
        "id": "-DURoseus-pn"
      },
      "source": [
        "## Вопросы для защиты"
      ]
    },
    {
      "cell_type": "markdown",
      "metadata": {
        "id": "ZKllaIaas-po"
      },
      "source": [
        "### Ответы на вопросы для защиты\n",
        "\n",
        "---\n",
        "\n",
        "#### 1. Какие типы машинного обучения вы знаете?\n",
        "1. **Обучение с учителем (Supervised Learning)**:\n",
        "   - Есть метки/цели (например, классификация, регрессия).\n",
        "   - Пример: Определение возраста пассажира Titanic по его данным.\n",
        "\n",
        "2. **Обучение без учителя (Unsupervised Learning)**:\n",
        "   - Нет меток, цель — выявить структуры в данных (кластеризация, снижение размерности).\n",
        "   - Пример: Кластеризация пассажиров Titanic по возрасту и стоимости билета.\n",
        "\n",
        "3. **Обучение с подкреплением (Reinforcement Learning)**:\n",
        "   - Модель обучается на основе награды или наказания за действия.\n",
        "   - Пример: Алгоритмы для игр или робототехники.\n",
        "\n",
        "4. **Полу-обучение (Semi-supervised Learning)**:\n",
        "   - Смешанный подход: используется небольшая часть размеченных данных и большой объем неразмеченных.\n",
        "\n",
        "---\n",
        "\n",
        "#### 2. Чем отличается обучение с учителем и без учителя?\n",
        "- **С учителем**:\n",
        "  - Есть размеченные данные (X, y), где y — целевая переменная.\n",
        "  - Примеры: линейная регрессия, деревья решений.\n",
        "- **Без учителя**:\n",
        "  - Нет меток, цель — изучение структуры данных.\n",
        "  - Примеры: k-means, PCA.\n",
        "\n",
        "---\n",
        "\n",
        "#### 3. Чем пакетное обучение отличается от динамического?\n",
        "- **Пакетное обучение**:\n",
        "  - Модель обучается на всем наборе данных сразу.\n",
        "  - Пример: тренировка модели на готовом наборе данных Titanic.\n",
        "  - Преимущества: более стабильное обучение.\n",
        "  - Недостатки: требуется весь набор данных.\n",
        "\n",
        "- **Динамическое обучение**:\n",
        "  - Модель обучается последовательно, получая данные в реальном времени.\n",
        "  - Пример: обучение рекомендаций на основе пользовательской активности.\n",
        "  - Преимущества: подходит для потоков данных.\n",
        "  - Недостатки: сложность реализации.\n",
        "\n",
        "---\n",
        "\n",
        "#### 4. Чем обучение на основе образцов отличается от обучения на основе модели?\n",
        "- **На основе образцов**:\n",
        "  - Хранение данных, сравнение новых объектов с сохраненными образцами.\n",
        "  - Пример: алгоритм k-ближайших соседей (k-NN).\n",
        "  - Недостатки: высокая вычислительная стоимость при прогнозировании.\n",
        "\n",
        "- **На основе модели**:\n",
        "  - Создание обобщенной модели, которая извлекает закономерности из данных.\n",
        "  - Пример: линейная регрессия, случайный лес.\n",
        "  - Преимущества: быстрее выполняет прогнозирование.\n",
        "\n",
        "---\n",
        "\n",
        "#### 5. Что такое линейная регрессия?\n",
        "- Линейная регрессия — это метод прогнозирования, который устанавливает линейную зависимость между независимыми переменными (X) и зависимой переменной (y):\n",
        "  \\[\n",
        "  y = w1 x1 + w2 x2 + ... + wn xn + b\n",
        "  \\]\n",
        "- Пример: предсказание стоимости билета Titanic на основе возраста пассажира.\n",
        "\n",
        "---\n",
        "\n",
        "#### 6. Что такое градиентный спуск?\n",
        "- Градиентный спуск — это оптимизационный алгоритм, используемый для минимизации функции потерь.\n",
        "- Идея: двигаться в направлении отрицательного градиента функции потерь для нахождения минимального значения.\n",
        "\n",
        "Основное обновление весов:\n",
        "![image.png](data:image/png;base64,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)  \n",
        "где n — скорость обучения.\n",
        "\n",
        "---\n",
        "\n",
        "#### 7. Как правильно обрабатывать категориальные признаки?\n",
        "- **Методы обработки**:\n",
        "  1. **One-Hot Encoding**:\n",
        "     - Преобразование категорий в бинарные вектора.\n",
        "  2. **Label Encoding**:\n",
        "     - Присвоение числовых значений категориям.\n",
        "  3. **Target Encoding**:\n",
        "     - Использование средних значений целевой переменной для каждой категории.\n",
        "\n",
        "Пример: Обработка признака \"Embarked\" в данных Titanic.\n",
        "\n",
        "---\n",
        "\n",
        "#### 8. Что такое матрица корреляции?\n",
        "- Матрица корреляции показывает линейную зависимость между переменными. Значения варьируются от -1 до 1:\n",
        "  - **1**: Полная положительная корреляция.\n",
        "  - **0**: Нет корреляции.\n",
        "  - **-1**: Полная отрицательная корреляция.\n",
        "- Используется для анализа взаимосвязей между признаками.\n",
        "\n",
        "---\n",
        "\n",
        "#### 9. Что показывает метрика RMSE?\n",
        "- **RMSE (Root Mean Squared Error)**:\n",
        "  - Показывает среднюю ошибку модели в тех же единицах, что и целевая переменная.\n",
        "  - Формула:\n",
        "![image.png](data:image/png;base64,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)  \n",
        "  - Пример: Используется для оценки точности предсказания стоимости билета.\n",
        "\n",
        "---\n",
        "\n",
        "#### 10. Что показывает метрика \\(R^2\\)?\n",
        "- **\\(R^2\\) (Коэффициент детерминации)**:\n",
        "  - Показывает долю объясненной дисперсии целевой переменной.\n",
        "  - Значения варьируются от 0 до 1:\n",
        "    - **1**: Модель идеально объясняет данные.\n",
        "    - **0**: Модель ничего не объясняет.\n",
        "  - Формула:\n",
        "![image.png](data:image/png;base64,iVBORw0KGgoAAAANSUhEUgAAANMAAABICAYAAABspsBZAAAAAXNSR0IArs4c6QAAAARnQU1BAACxjwv8YQUAAAAJcEhZcwAADsMAAA7DAcdvqGQAABG0SURBVHhe7Z0J1FRTHMBv2fe9yJYlS6gsoVLZy4cs6UQ5qXBkafmyJZElS6RSllB2FRWJkqV8Tors6qAQFVGRbNm57u8/903vm+/NfG9m3mx1f+fM+b53Z3vz5v7v/e9TQxuUw+HImpr2r8PhyBInTA5HRDhhcjgiwgmTwxERTpgcjohwwuRwRIQTJocjIpwwORwR4YTJ4YgIJ0wOR0Q4YXI4IsIJk8MREU6YHI6IcMLkWKv5999/1fz589WMGTPUH3/8YUczwwmTY63l559/VuXl5WrWrFlq9uzZau+991aTJk2y96aPq2cqUlatWqV++eUXe5Q+G220kdpiiy3sUTBMJh633nrr2ZE1j1Sfcfz48erpp59WgwcPVttvv7264YYb1PPPP69eeOEFtc0229hHhccJU5EyfPhwdfXVV6t1111XnXLKKWqzzTaz9wSzcOFC9cEHH6gff/xRjvfaay81ZcoUVatWLTlO5MUXX1Svvfaauv7660tOmJiy//33n1pnnXXsSHLeffdddc8996ghQ4aozTff3I7GQJCuuuoqEaB69eqJEJ177rlybQ444AD7qDRAmBzFx6+//qrbtGmjjRBpMxG0mTz2ntQYodIdOnTQZuLoyZMn29HKGKHTZWVlevny5XakdOA6DBs2TB911FH666+/tqOpGTt2rO7Zs6f+66+/7EgwZmGR1/3pp5/sSHo4YSpiFi1apM0KqY26pqdNm2ZHq+eff/7RgwYN0l26dNF///23HY3x22+/6fbt2+tx48bZkdIBQWJh6dSpk37yySf18ccfrxcvXmzvTQ6fuV27dvrZZ5+1I1VZsGCBbtKkiZ4xY4YdSR8nTEXOxIkTRZgaNWoUauJ4MIG6d++uv/zySzsS4+WXX5ZJs2zZMjtSOsyZM0ffdttt8R3GqHB64MCBsnhUB4vHMcccE7jrMMbCU1FRYUcywwlTkcNqfMUVV4i6161bt2pVFT+oir///rs9ir0Wr3HZZZfZkbUHFpUGDRroWbNm2ZEYq1at0gMGDNDz5s2TY+7PdKFxrvEip0aNGuKIOPLII9UTTzyhRowYYe+pnk022URtuOGG9kipH374QQzy5s2b25HKGBtEmZ1LHueH+AvexUJBLAjnysyZM5VRW+1oDLx1iWNB4IjZdddd5TU8eN6dd96pjJ0knk+uzYQJE0I5NoJwwlQC4IXq37+/fOFGzZEvPRO++uorZXYrtcsuu9iR1RBfufHGGyV4edJJJ8UFCkHq2rWruvjii2VS5xsmfN++fdUrr7wi58d18Pjss8/UgQceqIwtZEeSs/HGG6sddthBffLJJ+INhDFjxqhbbrlFtW7dWryfCNWnn34qrvRMcMJUIhx88MFq0KBByuj3slOxIqfLt99+K5Nzyy23tCMxvvvuOzV16lSZWFtttZX6/vvv4zvR0qVL1dtvv63233//+IrNa2Ty/pmAcBPzueCCC1TNmjXVN998Exfq999/XxaH3XffXY6B806WybDPPvvINTD2pBx36tRJPof/xqKC4GWCE6YS4vTTT1edO3eWiD0rtDG87T3hIabkV/0A9e6www6TmNZzzz2nmjVrJqs4GFtDdimE2WPo0KHq7LPPjk/KIJjQCGKYG6/v7RaJfPHFF+qEE06QHYUdmV3TE2qEHNWNGxDkPu2009TIkSPlOAiELYxamAlFEbTlFFBBuHAHHXRQleCaYzVcpzZt2sjEZxX1Jn0YCEpeeumlavr06RLxT+Stt95SJ598srr77rvVGWecIWNkBYwePVpNmzZN7bjjjjLmrfyJQukH2wvBDAO7Ye/evVNmbNx8883q0UcflYAqwkNwmmD2nnvuKcKDbQnsVKhpQXYPgduHHnpIVMZkweysQJgKCd6pfv366eHDh+v7779fm4sjQbmwQcq1Ddy4xFneeecdOxKeKVOm6H333VcbVceOVGbw4MFy/T13Op4uI1y6bdu2ca8gf/ES5hPez+xO2uyG8bgZbnKzkOhRo0bJMXBtUnk7+Xy8Tq7Ov+BqHnqvmRjquOOOU+eff7666aabxDbAEHRUBvWEnQJ1z692hQVbCdUQGymIefPmSVrNdtttJ8fLly8X9apBgwayC+FRu+OOO+T92cXyBeob6VJoLezIwHmxQ5rFQTSbxx57TDxz7dq1S2rP8To839vFoqbgwsQH40vkiwO8KkyaxYsXy7EjBhOGHLOdd95Z1LxM2HrrreUvDoYg/Dl6vN/EiRNF8HClI4Tk8p155pnqzz//zKtnD8eDJ0SAsDz++OOi4jFfmCuc3xFHHCFqntFq7CNXw+dZtGiRZIZn6mCojoILU+PGjcXI9WIf7EjYTFwkx2qwP1hkLrrootAra6Jna6eddpIJyPUOgiRP7NZu3bqpDh06iCsaO4kJiA2C5sBz2aX2228/+6zcw07Je993333ioseuq6iokN2ZBaJOnTrqrLPOUpMnT1ZHH310FW8l4AVdsGCBuL9zhpHYSDGrnm7durWkwBC151a7dm1tVlT5v379+tqoctqsLvYZq1mxYoVu1aqVHjNmjB0pDKSnTJgwQXLjigFyysiCSCf7gceWl5fHI/seXHu/7eHBZzZqkDyPDADsKuyLzp07xx/rZVCMGDFC7Cmekw+w0zxbjXObPXu22Ev+/MIlS5boli1b6rlz58q5JcJzjPBJInCuiFyYPF566SURHjJx/WA4YgRj2GIwevAlMmFGjx5dEOcDuWwY6Jdffrk2u6KuVauWNvacvbdw4GjA4eC/VtXB9Rs/frzu2LFjpXQiIKGzadOm+qOPPrIjWoSlV69eMkH5foCMc66BP8GWidisWTP94Ycf6qFDh6Z1TplCZjhCwHxBSLxzPfTQQytlvSNYxpbTxpbSDz74oB2NwfUwu6zccjm3cqbmmQsuf5s0aSJ/PagTQaVjm6a6EVBfcG+WlZXJdo1xSXQ736CXo0IQyykGcIPffvvtasCAAaHDBRjZZkFQXbp0EZUn0X1NgBO7B4PdfP8yZhYyUYGOPfZYcTu/9957EhjG2eFXi7g+m266qbjkCYDmI4RBDGrlypXqxBNPVOuvv7564IEHZO7w13OUAHYQdhMFf3wOP6imOEzOOeecnDkfICdxJvR0gnoIFPGGunXr2nticYC2bduqN998Uwxccs64MMRLsJ+4eOSgEZ1GVy8ExCNuvfVWiWk0atTIjuYXjGy+fNJl8KalAicBnja8oixEQOzGaAeB15DFi6I4FjViNfD666+LJ9Ws3GKHEBRGYBLhu8X5QN5fPuBcyUdkrgABZRYLo/XIsR+uWWJVLc/v0aOHBH4zddyEJSfCRMoHrm7clnhd/KsjKwQ7EBeFYCCrILsBX6IHwpezwFoIikGY7r33Xqm2zZQWLVpIpkKywCrZC5Rrs+j5F7s1jYcfflgcL4m7VU5AmKJm+vTpUunpt5fQVdG1DznkEKkEXbp0qb2n+CC4Vyw2k6N0yMnOxMqOmoD7FHXDGMGihuDuNsahql+/fta668CBA9Ujjzxij6oHdYf35nyqoxh2JkfpEbkwJbOX0OcxIjHumai5NASzJV1hIobBghEGdP182RuO/BK5MHn20h577KHGjh0bjzYTQCTVgwzlQtpDYUhHmFg8CCbiDQuDUXPFuZIKl+hbeJKlJKUicmF69dVX1amnnirZyddee60djbWiQsiIVlPMFRSlTgeEEzdwWIjg46UKyiZOxKl5jkyIPM5EzQnymRhfwtdP/h0qThR92hBO3Othb9hsxFMcjpzBzhQVZBGYXalSGr8HEWoyIrwUeNI7+vfvb+8tLjxvnlkY7IhjTYPsDaNFScpYVFkRkah5BFqJuBP4I0gG2EodO3aUngWoVl5RGxnHjD311FMSZS9UYDYR4i4kUVIE53VFBYroCDJT0l0ICJByfTPN0ibjGg9mKm2A7wwHyppiq1X3eejgShbF4YcfrkaNGiWBXuJR2X7+nLjGk4GxTqkx3i8M8aBqT0dllixZIlkKZNPTh4HrlgoWK9K0UIO9QDgpSfRQCAJD+5prrhGnSCY1UsUIwtSvXz9JDEjMeuDz0iCGBZLUNc+WJyOE8axAmBzFDUmn6TaiJHGYrqd16tRJWl1qJp3u3bu3HjlypB1Zc6ACgcTXxIpk1DsqE4zwyDHXhetjtBI5zgYnTCUAOj3tjrE5afOLbRoWssSbN28uNmoiZIQzkfKR/R0VXAsEhRKRxBtZ5P6yELrXmp0pZZk6tn29evUiaRedVzXPkTmoJwTD0fXJ5u7Zs2fowDcNVMiJ7NOnjx1RYlNQAEjPuGQqYDGSKq6X2JiFa0aJPcWOXoMYP0x9knux58ljzLRfXhyEyVEafPzxx7pu3briaTS2px2tHlbrlStXVvJakXfYsGHDKsWDaxrkhwYVQwJFlz169AgsJsyEgpetO8JDFj4rKE4GVlucE2HAm0qQ3L+Tka1fu3btePsuPxjwtBEmNuf3Ipr5Ip7OfPZ/SATPJmlqZNL44ZyDshaIdxL7XLZsmR2JQT8Lrh/Ne3guyQbZ4oSpxKB8Bc8b3j2SfZkImYDHj7xJiv38MCERVCYgfReoLfMg9EFxJ/d58PhMzyFd6GR1ySWXSN4n18FfQEpiNZk3iQJFASFeTb8wcf4E8vH00QSTtDevoU82OGEqMYgXXXfdddL2iqz5TH6DlVQs7ISgXYlK1VatWomNQezNvwOwepPB4j2P12Dlx47LNdh4fF6qjqk6QDiowAV2S3bS3XbbrUrRIOEXYm2eMLGzde/eXWwldnoqGyg29Do3ZYMTphKEL57+dQQZe/XqFW8RkC6JE4+yb6p2KSykBTMtwbyiOgz/OXPmSKzL+71Xiu7Y4VIV3qEaMoH97ZBT3XifIFasWCFCTKuzcePGiRB4lcAICvEi4krJnDJeHifXjs/GDua/EWvKFidMJQo7E8nETIQ33njDjmYHPR6uvPJKte2220rbLP+EZaIjtGQNUL2LkBB8xwOWyqvI+dEckvbGYW406g8CwWUHoSqBz4sAexkLnBdCmCopOQo1rlrwQjhKE35V0AhUWi3AwAtUkoMYBG2zaMnmr5Sm2xSBY6qoeT+e27dvX33eeecFespyBQFsszNW+tEyAq6NGzeWNnOJEH+iGxadp3KN25lKFIxofi2cMpd0s/A32GADUdWS1WCxiqPi0eDGg90AYx67BC8fOZXUrCVTy3LF/PnzpRaO8wDspblz58r5BDX+5/xQX/0dYXOFE6YSJJMWYH6YWBjmyWwUXOn+ui/e75lnnlENGzaU5/GXVsSoguQN5mOieiQuHLi4UfNoSRZ0HthrqKVBP/AWNU6YSgxsELLujQomxngYiAuxghtNxI4omXwICZ69RLCT2rdvLwmwZNLjcmYXw8BnYtK/jjbKvCZjeP3yBcJLzIw20bRAwFXOTosNGcTnn38u9ha3nBPT9hylADl0Xbt2TfvnZGbOnFmldmzhwoXaTMAqP5gMZARgFxlhkXy3SZMmSdaFP7+PNsvYa4xhx+QDMjho4YyNxnmZXUfaNZuFITC/kMfR3plzzQduZyoRCIySk0egMZ1SCWIxqIQtW7a0IzFQe/iVPX4Q2cwDOxrzjGF/lJeXiw1CXRrddnk+AVsP3Oq4q+nngcqXD+666y5xjxPvwn7j1y9QNambC1J3uZ9fvqCDbV6IyZSjmGFFprc3N39+XSp4XEVFhfxcfzJPF328y8rKJOfPA68dP7QwdepUyU7v06ePNMTnsX54ffL9/FnauQavXYsWLeRcqJDlvPAoBnkzOT92pCFDhoS+ZtnissZLABrQ0OQF+yWV5w6vFTsLdgKrt2fLkBXO7hQEXsFhw4ZJ91hWd56DY4NgLFMD24n0pawzqiOAz0WsiXPETiIm1rRp08A4F4FZuuLyk6KZOGkywQlTkUMyJi0BEhM7w4KHi17dTLpk4BEzu5O68MIL7UhpQ2AX1ZTskHwJEjhhcjgiwjkgHI6IcMLkcESEEyaHIyKcMDkcEeGEyeGICCdMDkdEOGFyOCLCCZPDEQlK/Q9NJ6HTcw/F0wAAAABJRU5ErkJggg==)  \n",
        "  - Пример: Оценка качества предсказания возраста пассажиров.\n",
        "\n",
        "---"
      ]
    }
  ],
  "metadata": {
    "kernelspec": {
      "display_name": "Python 3",
      "language": "python",
      "name": "python3"
    },
    "language_info": {
      "codemirror_mode": {
        "name": "ipython",
        "version": 3
      },
      "file_extension": ".py",
      "mimetype": "text/x-python",
      "name": "python",
      "nbconvert_exporter": "python",
      "pygments_lexer": "ipython3",
      "version": "3.12.2"
    },
    "colab": {
      "provenance": [],
      "include_colab_link": true
    }
  },
  "nbformat": 4,
  "nbformat_minor": 0
}