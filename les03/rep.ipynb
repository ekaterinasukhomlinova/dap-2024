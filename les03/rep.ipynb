{
  "cells": [
    {
      "cell_type": "markdown",
      "metadata": {
        "id": "qQvfD-M40xIt"
      },
      "source": [
        "# Лабораторная работа №3. NumPy"
      ]
    },
    {
      "cell_type": "markdown",
      "metadata": {
        "id": "CiLQs8W9Oib_"
      },
      "source": [
        "## Задание"
      ]
    },
    {
      "cell_type": "markdown",
      "metadata": {
        "id": "Q8FFEA2R08uS"
      },
      "source": [
        "Выполните следующие задания:\n",
        "\n",
        "1. Откройте в файл в Google Colab (используйте собственный форк репозитория).\n",
        "2. Решите задачи.\n",
        "3. Сохраните результат в ваш репозиторий github в директорию ./les03\n",
        "4. Создайте pull request в репозиторий https://github.com/chebotarevsa/dap-2024. Название pull request должно иметь формат \"<Номер лабораторной работы>  <Номер группы> <ФИО>\"\n",
        "5. Сдайте работу в системе \"Пегас\", в отчет укажите ссылку на pull request"
      ]
    },
    {
      "cell_type": "code",
      "execution_count": null,
      "metadata": {
        "colab": {
          "base_uri": "https://localhost:8080/",
          "height": 35
        },
        "id": "3ftbuMN45IlN",
        "outputId": "a202a579-7cba-405d-995b-9387cd4738a1"
      },
      "outputs": [
        {
          "data": {
            "text/plain": [
              "'2.1.0'"
            ]
          },
          "execution_count": 1,
          "metadata": {},
          "output_type": "execute_result"
        }
      ],
      "source": [
        "import numpy as np\n",
        "np.version.version"
      ]
    },
    {
      "cell_type": "markdown",
      "metadata": {
        "id": "6iPL4gTu2ECp"
      },
      "source": [
        "1. Создать массив 10x10 со случайными значениями, найти минимум и максимум (низкая)"
      ]
    },
    {
      "cell_type": "code",
      "execution_count": 1,
      "metadata": {
        "id": "v-AutHvo2T-D",
        "outputId": "3c79a534-a598-4f0c-ced7-58bc43346ec3",
        "colab": {
          "base_uri": "https://localhost:8080/"
        }
      },
      "outputs": [
        {
          "output_type": "stream",
          "name": "stdout",
          "text": [
            "\n",
            "Созданный массив: \n",
            "\n",
            " [[57 65 80 39 79 68 14 17 49 40]\n",
            " [63 91  1 98 44 60  5 81 96 12]\n",
            " [52 10 60 81 77 39 93 72 88 69]\n",
            " [85 89 99 85 67 93 25 73 78 41]\n",
            " [ 4 35 80 37 41 78 61 46 91 10]\n",
            " [73  3 15 56 92 30 53 73 92 60]\n",
            " [94 17 53 63 93 61  4 90 84 13]\n",
            " [79 17 51 95 19 64 73 84 57 18]\n",
            " [ 5 46 54 19 21  3 49  2 48 51]\n",
            " [65 55 33 27 69 64 65 17 34 68]]\n",
            "\n",
            "Минимальное значение: 1\n",
            "Максимальное значение: 99\n"
          ]
        }
      ],
      "source": [
        "import numpy as np\n",
        "array = np.random.randint(1, 100, (10, 10))\n",
        "print(\"\\nСозданный массив: \\n\\n\", array)\n",
        "print(\"\\nМинимальное значение:\", array.min())\n",
        "print(\"Максимальное значение:\", array.max())"
      ]
    },
    {
      "cell_type": "markdown",
      "metadata": {
        "id": "cwxKoGik2Xfd"
      },
      "source": [
        "2. Создать 8x8 матрицу и заполнить её единицами и нулями в шахматном порядке"
      ]
    },
    {
      "cell_type": "code",
      "execution_count": 2,
      "metadata": {
        "id": "zACAjKWC2lBy",
        "outputId": "4c8c4f64-a72b-4284-9e26-fbad3531dda9",
        "colab": {
          "base_uri": "https://localhost:8080/"
        }
      },
      "outputs": [
        {
          "output_type": "stream",
          "name": "stdout",
          "text": [
            "Матрица 8х8 в шахматном порядке: \n",
            " [[0. 1. 0. 1. 0. 1. 0. 1.]\n",
            " [1. 0. 1. 0. 1. 0. 1. 0.]\n",
            " [0. 1. 0. 1. 0. 1. 0. 1.]\n",
            " [1. 0. 1. 0. 1. 0. 1. 0.]\n",
            " [0. 1. 0. 1. 0. 1. 0. 1.]\n",
            " [1. 0. 1. 0. 1. 0. 1. 0.]\n",
            " [0. 1. 0. 1. 0. 1. 0. 1.]\n",
            " [1. 0. 1. 0. 1. 0. 1. 0.]]\n"
          ]
        }
      ],
      "source": [
        "import numpy as np\n",
        "matrix = np.zeros((8,8))\n",
        "matrix[::2, 1::2] = 1\n",
        "matrix[1::2, ::2] = 1\n",
        "print(\"Матрица 8х8 в шахматном порядке: \\n\", matrix)"
      ]
    },
    {
      "cell_type": "markdown",
      "metadata": {
        "id": "YvNFm7Io2tSA"
      },
      "source": [
        "3. Дан массив из 11 элементов, поменять знак у элементов, значения которых между 3 и 8"
      ]
    },
    {
      "cell_type": "code",
      "execution_count": 3,
      "metadata": {
        "id": "cczoe3OY27fA",
        "outputId": "e38fe1af-b130-49de-98d3-43eccdba1d96",
        "colab": {
          "base_uri": "https://localhost:8080/"
        }
      },
      "outputs": [
        {
          "output_type": "stream",
          "name": "stdout",
          "text": [
            "Исходный массив:\n",
            " [ 0  1  2  3  4  5  6  7  8  9 10]\n",
            "\n",
            "Измененный массив:\n",
            " [ 0  1  2  3 -4 -5 -6 -7  8  9 10]\n"
          ]
        }
      ],
      "source": [
        "import numpy as np\n",
        "x = np.arange(11)\n",
        "print(\"Исходный массив:\\n\", x)\n",
        "x[(x > 3) & (x < 8)] *= -1\n",
        "print(\"\\nИзмененный массив:\\n\", x)"
      ]
    },
    {
      "cell_type": "markdown",
      "metadata": {
        "id": "tInYHRPf2-jQ"
      },
      "source": [
        "4. Найти среднее заначение строки матрицы и вычесть его из каждого елемента строки"
      ]
    },
    {
      "cell_type": "code",
      "execution_count": 4,
      "metadata": {
        "id": "Zbv_WG9w3km1",
        "outputId": "09576e78-ebb5-464d-b846-5ff386df4d30",
        "colab": {
          "base_uri": "https://localhost:8080/"
        }
      },
      "outputs": [
        {
          "output_type": "stream",
          "name": "stdout",
          "text": [
            "Матрица: \n",
            " [[0.34708163 0.41822741 0.83615834 0.21708467 0.4249012  0.64869756\n",
            "  0.71019624 0.45165552 0.54512568 0.20341482]\n",
            " [0.48809582 0.31897172 0.70948539 0.39544486 0.51222856 0.89611819\n",
            "  0.03218889 0.56016089 0.99916805 0.78831684]\n",
            " [0.09641704 0.6927236  0.62871281 0.10394427 0.92064948 0.18099575\n",
            "  0.54000937 0.59296623 0.96148753 0.19765871]\n",
            " [0.39124859 0.31679683 0.2491521  0.4984449  0.7965533  0.90732401\n",
            "  0.68398438 0.78908195 0.0051704  0.94760744]\n",
            " [0.70985082 0.15136564 0.89789497 0.75655781 0.98813436 0.59388351\n",
            "  0.55566797 0.3708477  0.47252717 0.12494889]]\n",
            "\n",
            "Среднее значение:\n",
            " [[0.48025431]\n",
            " [0.57001792]\n",
            " [0.49155648]\n",
            " [0.55853639]\n",
            " [0.56216789]]\n",
            "\n",
            "Измененная матрица:\n",
            " [[-0.13317268 -0.06202689  0.35590404 -0.26316964 -0.0553531   0.16844325\n",
            "   0.22994193 -0.02859879  0.06487137  0.20341482]\n",
            " [-0.0819221  -0.2510462   0.13946747 -0.17457306 -0.05778936  0.32610027\n",
            "  -0.53782903 -0.00985703  0.42915013  0.78831684]\n",
            " [-0.39513943  0.20116712  0.13715633 -0.38761221  0.429093   -0.31056073\n",
            "   0.04845289  0.10140975  0.46993105  0.19765871]\n",
            " [-0.1672878  -0.24173956 -0.30938429 -0.06009149  0.23801691  0.34878762\n",
            "   0.12544799  0.23054556 -0.55336599  0.94760744]\n",
            " [ 0.14768293 -0.41080224  0.33572709  0.19438993  0.42596648  0.03171562\n",
            "  -0.00649992 -0.19132018 -0.08964072  0.12494889]]\n"
          ]
        }
      ],
      "source": [
        "import numpy as np\n",
        "z = np.random.rand(5, 10)\n",
        "print(\"Матрица: \\n\", z)\n",
        "means = np.mean(z, axis=1, keepdims=True)\n",
        "z[:, :9] -= means\n",
        "print(\"\\nСреднее значение:\\n\", means)\n",
        "print(\"\\nИзмененная матрица:\\n\", z)"
      ]
    },
    {
      "cell_type": "markdown",
      "metadata": {
        "id": "OStor4mW3lpJ"
      },
      "source": [
        "5. Поменяйте 1 и 2 строки матрицы"
      ]
    },
    {
      "cell_type": "code",
      "execution_count": 5,
      "metadata": {
        "id": "5vfeHqyF3qKd",
        "outputId": "42dcd5e9-155f-4b5f-ac20-ff12eb9cc62a",
        "colab": {
          "base_uri": "https://localhost:8080/"
        }
      },
      "outputs": [
        {
          "output_type": "stream",
          "name": "stdout",
          "text": [
            "Матрица:\n",
            " [[ 0  1  2  3  4]\n",
            " [ 5  6  7  8  9]\n",
            " [10 11 12 13 14]\n",
            " [15 16 17 18 19]\n",
            " [20 21 22 23 24]]\n",
            "\n",
            "Измененная матрица:\n",
            " [[ 0  1  2  3  4]\n",
            " [10 11 12 13 14]\n",
            " [ 5  6  7  8  9]\n",
            " [15 16 17 18 19]\n",
            " [20 21 22 23 24]]\n"
          ]
        }
      ],
      "source": [
        "import numpy as np\n",
        "z = np.arange(25).reshape(5,5)\n",
        "print(\"Матрица:\\n\", z)\n",
        "z[[1, 2]] = z[[2, 1]]\n",
        "print(\"\\nИзмененная матрица:\\n\", z)"
      ]
    },
    {
      "cell_type": "markdown",
      "metadata": {
        "id": "IPQ9xIIk3qml"
      },
      "source": [
        "6. Дан массив 10x2 подеставлющий собой точки в декартовой системе координат, преобразовать в полярную"
      ]
    },
    {
      "cell_type": "code",
      "execution_count": 6,
      "metadata": {
        "id": "zGHBaX8b30Uv",
        "outputId": "b6408510-f194-41d3-81ba-5492a7cfc625",
        "colab": {
          "base_uri": "https://localhost:8080/"
        }
      },
      "outputs": [
        {
          "output_type": "stream",
          "name": "stdout",
          "text": [
            "Декартова система координат:\n",
            " [[0.33659525 0.13392111]\n",
            " [0.71199928 0.82281031]\n",
            " [0.91183131 0.32967394]\n",
            " [0.32912729 0.85572751]\n",
            " [0.02951051 0.43499308]\n",
            " [0.5271488  0.66218559]\n",
            " [0.46645007 0.7550951 ]\n",
            " [0.02106855 0.27388118]\n",
            " [0.10465823 0.13967062]\n",
            " [0.41793004 0.62146534]]\n",
            "\n",
            "Полярные координаты:\n",
            " [[0.36225851 0.37866871]\n",
            " [1.08809916 0.85747166]\n",
            " [0.9695985  0.34692836]\n",
            " [0.91683932 1.20362115]\n",
            " [0.43599295 1.5030588 ]\n",
            " [0.84638975 0.89845381]\n",
            " [0.88754959 1.017437  ]\n",
            " [0.27469034 1.49402164]\n",
            " [0.17453145 0.92772949]\n",
            " [0.74892235 0.97877211]]\n"
          ]
        }
      ],
      "source": [
        "import numpy as np\n",
        "z = np.random.random((10, 2))\n",
        "print(\"Декартова система координат:\\n\", z)\n",
        "x = z[:, 0]\n",
        "y = z[:, 1]\n",
        "r = np.sqrt(x ** 2 + y ** 2)\n",
        "phi = np.arctan2(y, x)\n",
        "pz = np.column_stack((r, phi))\n",
        "print(\"\\nПолярные координаты:\\n\", pz)"
      ]
    },
    {
      "cell_type": "markdown",
      "metadata": {
        "id": "10gbuTgE4AOH"
      },
      "source": [
        "7. Заменить максимальный элемент массива на ноль"
      ]
    },
    {
      "cell_type": "code",
      "execution_count": 7,
      "metadata": {
        "id": "gqwuO2T_5Aqd",
        "outputId": "1b6857d2-bec5-4aef-9e59-d5ae4953e8ff",
        "colab": {
          "base_uri": "https://localhost:8080/"
        }
      },
      "outputs": [
        {
          "output_type": "stream",
          "name": "stdout",
          "text": [
            "Массив:\n",
            " [0.42404121 0.88350521 0.73131148 0.88257585 0.11109477 0.17490271\n",
            " 0.66814576 0.43728367 0.86982816 0.95332119]\n",
            "\n",
            "Индекс максимального элемента: 9\n",
            "\n",
            "Измененный массив:\n",
            " [0.42404121 0.88350521 0.73131148 0.88257585 0.11109477 0.17490271\n",
            " 0.66814576 0.43728367 0.86982816 0.        ]\n"
          ]
        }
      ],
      "source": [
        "import numpy as np\n",
        "z = np.random.random(10)\n",
        "print(\"Массив:\\n\", z)\n",
        "max = np.argmax(z)\n",
        "print(\"\\nИндекс максимального элемента:\", max)\n",
        "z[max] = 0\n",
        "print(\"\\nИзмененный массив:\\n\", z)"
      ]
    },
    {
      "cell_type": "markdown",
      "metadata": {
        "id": "88m_eWXM6nZY"
      },
      "source": [
        "8. Дан массив, добавить 1 к каждому элементу с индексом, заданным в другом массиве. Добавление производиться только 1 раз"
      ]
    },
    {
      "cell_type": "code",
      "execution_count": 8,
      "metadata": {
        "id": "-5yj9k126pfh",
        "outputId": "7b31f935-93f0-4352-cd46-ad2b06328acf",
        "colab": {
          "base_uri": "https://localhost:8080/"
        }
      },
      "outputs": [
        {
          "output_type": "stream",
          "name": "stdout",
          "text": [
            "Массив:\n",
            " [1. 1. 1. 1. 1. 1. 1. 1. 1. 1.]\n",
            "\n",
            "Массив индексов:\n",
            " [9 0 3 1 6 4 6 8 0 0 7 3 4 9 2 0 3 2 2 6]\n",
            "\n",
            "Измененный массив:\n",
            " [2. 2. 2. 2. 2. 1. 2. 2. 2. 2.]\n"
          ]
        }
      ],
      "source": [
        "import numpy as np\n",
        "z = np.ones(10)\n",
        "i = np.random.randint(0,len(z),20)\n",
        "print(\"Массив:\\n\", z)\n",
        "print(\"\\nМассив индексов:\\n\", i)\n",
        "unique = np.unique(i)\n",
        "z[unique] += 1\n",
        "print(\"\\nИзмененный массив:\\n\", z)"
      ]
    },
    {
      "cell_type": "markdown",
      "metadata": {
        "id": "0HByAVK77JCG"
      },
      "source": [
        "9. Дан вектор [1, 2, 3, 4, 5], построить новый вектор с тремя нулями между каждым значением"
      ]
    },
    {
      "cell_type": "code",
      "execution_count": 9,
      "metadata": {
        "id": "2AiZt-J47dqq",
        "outputId": "d1482d7e-8957-409a-be0c-1b697772ad68",
        "colab": {
          "base_uri": "https://localhost:8080/"
        }
      },
      "outputs": [
        {
          "output_type": "stream",
          "name": "stdout",
          "text": [
            "Вектор:\n",
            " [1 2 3 4 5]\n",
            "\n",
            "Новый вектор:\n",
            " [1. 0. 0. 0. 2. 0. 0. 0. 3. 0. 0. 0. 4. 0. 0. 0. 5.]\n"
          ]
        }
      ],
      "source": [
        "import numpy as np\n",
        "z = np.array([1,2,3,4,5])\n",
        "print(\"Вектор:\\n\", z)\n",
        "x = np.zeros(len(z) + (len(z) - 1) * 3)\n",
        "x[::4] = z\n",
        "print(\"\\nНовый вектор:\\n\", x)"
      ]
    },
    {
      "cell_type": "markdown",
      "metadata": {
        "id": "i0uK-dO08AKP"
      },
      "source": [
        "10. Найти ближайшее к заданному значению число в заданном массиве"
      ]
    },
    {
      "cell_type": "code",
      "execution_count": 10,
      "metadata": {
        "id": "sE0DlZO_-4Cb",
        "outputId": "fe65e4e0-ca1c-44ba-e9d4-0a1550ceb266",
        "colab": {
          "base_uri": "https://localhost:8080/"
        }
      },
      "outputs": [
        {
          "output_type": "stream",
          "name": "stdout",
          "text": [
            "Массив:\n",
            " [ 0  1  2  3  4  5  6  7  8  9 10 11 12 13 14 15 16 17 18 19 20 21 22 23\n",
            " 24 25 26 27 28 29 30 31 32 33 34 35 36 37 38 39 40 41 42 43 44 45 46 47\n",
            " 48 49 50 51 52 53 54 55 56 57 58 59 60 61 62 63 64 65 66 67 68 69 70 71\n",
            " 72 73 74 75 76 77 78 79 80 81 82 83 84 85 86 87 88 89 90 91 92 93 94 95\n",
            " 96 97 98 99]\n",
            "\n",
            "Заданное значение: 99.79575746430861\n",
            "\n",
            "Ближайшее значение для 99.79575746430861 = 99\n"
          ]
        }
      ],
      "source": [
        "import numpy as np\n",
        "z = np.arange(100)\n",
        "v = np.random.uniform(0,100)\n",
        "print(\"Массив:\\n\", z)\n",
        "print(\"\\nЗаданное значение:\", v)\n",
        "x = np.fabs(z - v).argmin()\n",
        "y = z[x]\n",
        "print(\"\\nБлижайшее значение для\", v, \"=\", y)"
      ]
    },
    {
      "cell_type": "markdown",
      "metadata": {
        "id": "0zUpsgh8uCfQ"
      },
      "source": [
        "## Вопросы\n",
        "\n",
        "\n"
      ]
    },
    {
      "cell_type": "markdown",
      "metadata": {
        "id": "RQEMkoq5vc3k"
      },
      "source": [
        "# Ответы на вопросы\n",
        "\n",
        "## 1. Какой тип (dtype) будут иметь элементы массива?\n",
        "```python\n",
        "import numpy as np\n",
        "\n",
        "# Типы данных массивов\n",
        "print(np.array([1, 4, 2, 5, 3]).dtype)  # int64 или int32 (зависит от системы)\n",
        "print(np.array([1., 4, 2, 5, 3]).dtype)  # float64\n",
        "print(np.array([1, 4, 2, 5, 3], dtype='float128').dtype)  # float128\n",
        "print(np.array([1., 4, 2, 5, 3], dtype='complex128').dtype)  # complex128\n",
        "print(np.array([1, 4, 2, 5, 3], dtype='float64').dtype)  # float64\n",
        "print(np.array([1, 4, 2, 5, 3], dtype='int64').dtype)  # int64\n",
        "print(np.array([1, 4, 2, 5, 3], dtype='bool').dtype)  # bool\n",
        "print(np.array([1, 4, 2, 5, 3], dtype='str').dtype)  # <U1\n",
        "print(np.array([1, 4, 2, 5, '3']).dtype)  # <U21 (строки)\n",
        "print(np.array([1, -4, 2, 0, 1j]).dtype)  # complex128\n"
      ]
    },
    {
      "cell_type": "markdown",
      "metadata": {
        "id": "SlJfe4Bgvd16"
      },
      "source": [
        "**2**. Что будет выведено в консоль и почему?\n",
        "- Операции с массивами\n",
        "```python\n",
        "print(np.array([1, 4, 2, 5, 3], dtype='str')[1] + '1')  # '41'\n",
        "print(np.array([1, -4, 2, 0, 3], dtype='bool')[3] or np.array([1, -4, 2, 0, 3])[1])  # -4\n",
        "print(np.array([1, -4, 2, 0, 3], dtype='bool')[3] and np.array([1, -4, 2, 0, 3])[1])  # False\n",
        "print(np.array([1, -4, 2, 0, True], dtype='int64')[-1])  # 1\n",
        "print(np.array([1, -4, 2, 0, 1j], dtype='str')[-1])  # '1j'\n",
        "print(np.array([1, 4, 2, 5, '3'])[-1] * 3)  # '333'\n"
      ]
    },
    {
      "cell_type": "markdown",
      "metadata": {
        "id": "X50PESx7xVAc"
      },
      "source": [
        "**3**. Каков результат операции?\n",
        "\n",
        "``` python\n",
        "print(np.ones((3, 5), dtype=float))  # Матрица 3x5 из 1.0\n",
        "print(np.full((3, 5), 3.14))  # Матрица 3x5 из 3.14\n",
        "print(np.linspace(0, 1, 5))  # [0. , 0.25, 0.5 , 0.75, 1. ]\n",
        "print(np.diag((1, 3, 5)))  # Диагональная матрица с диагональю [1, 3, 5]\n",
        "print(np.random.random((3, 3)))  # Матрица 3x3 со случайными значениями\n",
        "print(np.eye(3))  # Единичная матрица 3x3\n",
        "print(np.empty(3))  # Пустой массив из 3 элементов (значения не инициализированы)\n"
      ]
    },
    {
      "cell_type": "markdown",
      "metadata": {
        "id": "D6Bt-8cfAWrA"
      },
      "source": [
        "**4**. Дан двумерный массив X, что будет выведено в консоль?\n",
        "\n",
        "``` python\n",
        "X = np.array([[3, 5, 2, 4],\n",
        "      [7, 6, 8, 8],\n",
        "      [1, 6, 7, 7]])\n",
        "```\n",
        "\n",
        "``` python\n",
        "print(X[0, 0])  # 3\n",
        "print(X[-1, -1])  # 7\n",
        "print(X[0:1, -1])  # [4]\n",
        "print(X[0:2, -1])  # [4, 8]\n",
        "print(X[0:2, 0:2])  # [[3, 5], [7, 6]]\n",
        "print(X[1, 1:3])  # [6, 8]\n",
        "print(X[1, :])  # [7, 6, 8, 8]\n",
        "print(X[:, :])  # Весь массив\n",
        "print(X[::2, ::2])  # [[3, 2], [1, 7]]\n",
        "print(X[::-1, ::-1])  # Обратный массив\n",
        "```"
      ]
    },
    {
      "cell_type": "markdown",
      "metadata": {
        "id": "YMPHKXncOicH"
      },
      "source": [
        "**5**. Дан двумерный массив grid, в чем различее между операциями?\n",
        "\n",
        "\n",
        "``` python\n",
        "grid = np.arange(16).reshape((4, 4))\n",
        "print(np.split(grid, [2]))  # Разделение по строкам\n",
        "print(np.split(grid, [2], axis=1))  # Разделение по столбцам\n"
      ]
    },
    {
      "cell_type": "markdown",
      "metadata": {
        "id": "U-n0paAnOicH"
      },
      "source": [
        "**6**. В чем различие между операциями?\n",
        "\n",
        "``` python\n",
        "print([1, 2, 3] + [3, 2, 1])  # Конкатенация списков: [1, 2, 3, 3, 2, 1]\n",
        "print(np.array([1, 2, 3]) + np.array([3, 2, 1]))  # Покомпонентное сложение: [4, 4, 4]\n"
      ]
    },
    {
      "cell_type": "markdown",
      "metadata": {
        "id": "a1id6sUJOicI"
      },
      "source": [
        "**7**. Как в CodeLab измерить время выполнения кода?  \n",
        "```python\n",
        "# Используем магическую команду %%time\n",
        "%%time\n",
        "result = sum(range(1000000))\n"
      ]
    },
    {
      "cell_type": "markdown",
      "metadata": {
        "id": "cGNCVDd0OicI"
      },
      "source": [
        "**8**. Дан массив X, каковы результаты операций?\n",
        "\n",
        "```python\n",
        "X = np.array([[3, 5, 2, 4],\n",
        "              [7, 6, 8, 8],\n",
        "              [1, 6, 7, 7]])\n",
        "\n",
        "print(np.sum(X))  # Сумма всех элементов\n",
        "print(np.sum(X, axis=1))  # Сумма по строкам\n",
        "print(np.sum(X, axis=0))  # Сумма по столбцам\n"
      ]
    },
    {
      "cell_type": "markdown",
      "metadata": {
        "id": "orSr162GOicI"
      },
      "source": [
        "**9**. Дан массив X, что будет выведено в консоль?\n",
        "\n",
        "```python\n",
        "X = np.array([1, 2, 3, 4])\n",
        "\n",
        "print(X > 3)  # [False False False True]\n",
        "print(X < 3)  # [ True  True False False]\n",
        "print(X[X < 3])  # [1 2]\n",
        "print(X[X > 3])  # [4]\n",
        "print(X[X != 3])  # [1 2 4]\n"
      ]
    },
    {
      "cell_type": "markdown",
      "metadata": {
        "id": "C9pnqjvNOicJ"
      },
      "source": [
        "**10**.  В чем преимущество массивов NumPy по сравнению с обычными списками.  Чем обусловлено это преимущество?  \n",
        "\n",
        "**Преимущества:**\n",
        "- 1. Быстрее, так как операции выполняются на уровне C (ближе к железу).\n",
        "- 2. Меньше памяти, поскольку тип элементов массива фиксирован.\n",
        "- 3. Мощные инструменты для работы с большими данными (трансформации, вычисления, индексация).\n"
      ]
    }
  ],
  "metadata": {
    "colab": {
      "provenance": []
    },
    "kernelspec": {
      "display_name": "Python 3",
      "name": "python3"
    },
    "language_info": {
      "codemirror_mode": {
        "name": "ipython",
        "version": 3
      },
      "file_extension": ".py",
      "mimetype": "text/x-python",
      "name": "python",
      "nbconvert_exporter": "python",
      "pygments_lexer": "ipython3",
      "version": "3.12.2"
    }
  },
  "nbformat": 4,
  "nbformat_minor": 0
}